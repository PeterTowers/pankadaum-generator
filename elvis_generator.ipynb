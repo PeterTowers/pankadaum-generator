{
  "nbformat": 4,
  "nbformat_minor": 0,
  "metadata": {
    "colab": {
      "name": "Cópia de pankadaum_generator.ipynb",
      "provenance": [],
      "collapsed_sections": [
        "JeagCn1i6jdZ",
        "cipEgU8Eaug3",
        "F9OPUbx4urMu",
        "zWovl_4suySl"
      ],
      "toc_visible": true
    },
    "kernelspec": {
      "name": "python3",
      "display_name": "Python 3"
    },
    "language_info": {
      "name": "python"
    },
    "accelerator": "GPU"
  },
  "cells": [
    {
      "cell_type": "markdown",
      "metadata": {
        "id": "GBZrO7hA5wNZ"
      },
      "source": [
        "# PANKADAUM Generator 2000\n",
        "Uma *tentativa* de criar um gerador de letras de música automático.\n",
        "\n",
        "\n",
        "---\n",
        "\n",
        "\n",
        "Universidade de Brasília\n",
        "\n",
        "Prof.: Roberta Barbosa Oliveira\n",
        "\n",
        "Alunos:\n",
        "\n",
        "*   Matheus Stauffer (coloque sua matrícula aqui)\n",
        "*   Pedro Torres (16/0141575).\n",
        "\n",
        "Brasília, 7 de outubro de 2021."
      ]
    },
    {
      "cell_type": "markdown",
      "metadata": {
        "id": "7bQDhxgif5Z8"
      },
      "source": [
        "Dataframe: https://www.kaggle.com/neisse/scrapped-lyrics-from-6-genres?select=lyrics-data.csv"
      ]
    },
    {
      "cell_type": "markdown",
      "metadata": {
        "id": "JeagCn1i6jdZ"
      },
      "source": [
        "## Setup"
      ]
    },
    {
      "cell_type": "code",
      "metadata": {
        "colab": {
          "base_uri": "https://localhost:8080/"
        },
        "id": "a-vTz3c40GaX",
        "outputId": "53dd6738-aa7a-4fa6-aac1-a90c0cfe31c2"
      },
      "source": [
        "# Download dataframes from Github\n",
        "!wget https://github.com/PeterTowers/pankadaum-generator/raw/main/dataframes/dataframes.zip\n",
        "\n",
        "# Unzip dataframes\n",
        "!unzip \"/content/dataframes.zip\" -d \".\""
      ],
      "execution_count": 3,
      "outputs": [
        {
          "output_type": "stream",
          "name": "stdout",
          "text": [
            "--2021-10-06 22:28:02--  https://github.com/PeterTowers/pankadaum-generator/raw/main/dataframes/dataframes.zip\n",
            "Resolving github.com (github.com)... 140.82.113.3\n",
            "Connecting to github.com (github.com)|140.82.113.3|:443... connected.\n",
            "HTTP request sent, awaiting response... 302 Found\n",
            "Location: https://raw.githubusercontent.com/PeterTowers/pankadaum-generator/main/dataframes/dataframes.zip [following]\n",
            "--2021-10-06 22:28:02--  https://raw.githubusercontent.com/PeterTowers/pankadaum-generator/main/dataframes/dataframes.zip\n",
            "Resolving raw.githubusercontent.com (raw.githubusercontent.com)... 185.199.108.133, 185.199.109.133, 185.199.110.133, ...\n",
            "Connecting to raw.githubusercontent.com (raw.githubusercontent.com)|185.199.108.133|:443... connected.\n",
            "HTTP request sent, awaiting response... 200 OK\n",
            "Length: 79488219 (76M) [application/zip]\n",
            "Saving to: ‘dataframes.zip.1’\n",
            "\n",
            "dataframes.zip.1    100%[===================>]  75.81M   160MB/s    in 0.5s    \n",
            "\n",
            "2021-10-06 22:28:02 (160 MB/s) - ‘dataframes.zip.1’ saved [79488219/79488219]\n",
            "\n",
            "Archive:  /content/dataframes.zip\n",
            "replace ./artists-data.csv? [y]es, [n]o, [A]ll, [N]one, [r]ename: y\n",
            "  inflating: ./artists-data.csv      \n",
            "replace ./lyrics-data.csv? [y]es, [n]o, [A]ll, [N]one, [r]ename: y\n",
            "  inflating: ./lyrics-data.csv       \n"
          ]
        }
      ]
    },
    {
      "cell_type": "markdown",
      "metadata": {
        "id": "4LxjrIawamHG"
      },
      "source": [
        "## Análise do dataframe"
      ]
    },
    {
      "cell_type": "code",
      "metadata": {
        "colab": {
          "base_uri": "https://localhost:8080/",
          "height": 459
        },
        "id": "DNqsC5Z97iEu",
        "outputId": "ff8f5dc9-b0e3-48b8-b1fa-3887b7501f17"
      },
      "source": [
        "import pandas as pd\n",
        "\n",
        "artists_df = pd.read_csv(r\"./artists-data.csv\")\n",
        "\n",
        "print(artists_df.info(), end=\"\\n\\n\")\n",
        "artists_df.head()"
      ],
      "execution_count": 4,
      "outputs": [
        {
          "output_type": "stream",
          "name": "stdout",
          "text": [
            "<class 'pandas.core.frame.DataFrame'>\n",
            "RangeIndex: 3242 entries, 0 to 3241\n",
            "Data columns (total 6 columns):\n",
            " #   Column      Non-Null Count  Dtype  \n",
            "---  ------      --------------  -----  \n",
            " 0   Artist      3242 non-null   object \n",
            " 1   Songs       3242 non-null   int64  \n",
            " 2   Popularity  3242 non-null   float64\n",
            " 3   Link        3242 non-null   object \n",
            " 4   Genre       3242 non-null   object \n",
            " 5   Genres      3238 non-null   object \n",
            "dtypes: float64(1), int64(1), object(4)\n",
            "memory usage: 152.1+ KB\n",
            "None\n",
            "\n"
          ]
        },
        {
          "output_type": "execute_result",
          "data": {
            "text/html": [
              "<div>\n",
              "<style scoped>\n",
              "    .dataframe tbody tr th:only-of-type {\n",
              "        vertical-align: middle;\n",
              "    }\n",
              "\n",
              "    .dataframe tbody tr th {\n",
              "        vertical-align: top;\n",
              "    }\n",
              "\n",
              "    .dataframe thead th {\n",
              "        text-align: right;\n",
              "    }\n",
              "</style>\n",
              "<table border=\"1\" class=\"dataframe\">\n",
              "  <thead>\n",
              "    <tr style=\"text-align: right;\">\n",
              "      <th></th>\n",
              "      <th>Artist</th>\n",
              "      <th>Songs</th>\n",
              "      <th>Popularity</th>\n",
              "      <th>Link</th>\n",
              "      <th>Genre</th>\n",
              "      <th>Genres</th>\n",
              "    </tr>\n",
              "  </thead>\n",
              "  <tbody>\n",
              "    <tr>\n",
              "      <th>0</th>\n",
              "      <td>10000 Maniacs</td>\n",
              "      <td>110</td>\n",
              "      <td>0.3</td>\n",
              "      <td>/10000-maniacs/</td>\n",
              "      <td>Rock</td>\n",
              "      <td>Rock; Pop; Electronica; Dance; J-Pop/J-Rock; G...</td>\n",
              "    </tr>\n",
              "    <tr>\n",
              "      <th>1</th>\n",
              "      <td>12 Stones</td>\n",
              "      <td>75</td>\n",
              "      <td>0.3</td>\n",
              "      <td>/12-stones/</td>\n",
              "      <td>Rock</td>\n",
              "      <td>Rock; Gospel/Religioso; Hard Rock; Grunge; Roc...</td>\n",
              "    </tr>\n",
              "    <tr>\n",
              "      <th>2</th>\n",
              "      <td>311</td>\n",
              "      <td>196</td>\n",
              "      <td>0.5</td>\n",
              "      <td>/311/</td>\n",
              "      <td>Rock</td>\n",
              "      <td>Rock; Surf Music; Reggae; Ska; Pop/Rock; Rock ...</td>\n",
              "    </tr>\n",
              "    <tr>\n",
              "      <th>3</th>\n",
              "      <td>4 Non Blondes</td>\n",
              "      <td>15</td>\n",
              "      <td>7.5</td>\n",
              "      <td>/4-non-blondes/</td>\n",
              "      <td>Rock</td>\n",
              "      <td>Rock; Pop/Rock; Rock Alternativo; Grunge; Blue...</td>\n",
              "    </tr>\n",
              "    <tr>\n",
              "      <th>4</th>\n",
              "      <td>A Cruz Está Vazia</td>\n",
              "      <td>13</td>\n",
              "      <td>0.0</td>\n",
              "      <td>/a-cruz-esta-vazia/</td>\n",
              "      <td>Rock</td>\n",
              "      <td>Rock</td>\n",
              "    </tr>\n",
              "  </tbody>\n",
              "</table>\n",
              "</div>"
            ],
            "text/plain": [
              "              Artist  ...                                             Genres\n",
              "0      10000 Maniacs  ...  Rock; Pop; Electronica; Dance; J-Pop/J-Rock; G...\n",
              "1          12 Stones  ...  Rock; Gospel/Religioso; Hard Rock; Grunge; Roc...\n",
              "2                311  ...  Rock; Surf Music; Reggae; Ska; Pop/Rock; Rock ...\n",
              "3      4 Non Blondes  ...  Rock; Pop/Rock; Rock Alternativo; Grunge; Blue...\n",
              "4  A Cruz Está Vazia  ...                                               Rock\n",
              "\n",
              "[5 rows x 6 columns]"
            ]
          },
          "metadata": {},
          "execution_count": 4
        }
      ]
    },
    {
      "cell_type": "code",
      "metadata": {
        "colab": {
          "base_uri": "https://localhost:8080/",
          "height": 527
        },
        "id": "FoimNSJ39Ob4",
        "outputId": "477800a3-6fde-424e-f9c4-2254081d6081"
      },
      "source": [
        "lyrics_df = pd.read_csv(r\"./lyrics-data.csv\")\n",
        "\n",
        "print(lyrics_df.info(), end=\"\\n\\n\")\n",
        "lyrics_df.head()"
      ],
      "execution_count": 5,
      "outputs": [
        {
          "output_type": "stream",
          "name": "stdout",
          "text": [
            "<class 'pandas.core.frame.DataFrame'>\n",
            "RangeIndex: 209522 entries, 0 to 209521\n",
            "Data columns (total 5 columns):\n",
            " #   Column  Non-Null Count   Dtype \n",
            "---  ------  --------------   ----- \n",
            " 0   ALink   209522 non-null  object\n",
            " 1   SName   209522 non-null  object\n",
            " 2   SLink   209522 non-null  object\n",
            " 3   Lyric   209484 non-null  object\n",
            " 4   Idiom   206375 non-null  object\n",
            "dtypes: object(5)\n",
            "memory usage: 8.0+ MB\n",
            "None\n",
            "\n"
          ]
        },
        {
          "output_type": "execute_result",
          "data": {
            "text/html": [
              "<div>\n",
              "<style scoped>\n",
              "    .dataframe tbody tr th:only-of-type {\n",
              "        vertical-align: middle;\n",
              "    }\n",
              "\n",
              "    .dataframe tbody tr th {\n",
              "        vertical-align: top;\n",
              "    }\n",
              "\n",
              "    .dataframe thead th {\n",
              "        text-align: right;\n",
              "    }\n",
              "</style>\n",
              "<table border=\"1\" class=\"dataframe\">\n",
              "  <thead>\n",
              "    <tr style=\"text-align: right;\">\n",
              "      <th></th>\n",
              "      <th>ALink</th>\n",
              "      <th>SName</th>\n",
              "      <th>SLink</th>\n",
              "      <th>Lyric</th>\n",
              "      <th>Idiom</th>\n",
              "    </tr>\n",
              "  </thead>\n",
              "  <tbody>\n",
              "    <tr>\n",
              "      <th>0</th>\n",
              "      <td>/10000-maniacs/</td>\n",
              "      <td>More Than This</td>\n",
              "      <td>/10000-maniacs/more-than-this.html</td>\n",
              "      <td>I could feel at the time. There was no way of ...</td>\n",
              "      <td>ENGLISH</td>\n",
              "    </tr>\n",
              "    <tr>\n",
              "      <th>1</th>\n",
              "      <td>/10000-maniacs/</td>\n",
              "      <td>Because The Night</td>\n",
              "      <td>/10000-maniacs/because-the-night.html</td>\n",
              "      <td>Take me now, baby, here as I am. Hold me close...</td>\n",
              "      <td>ENGLISH</td>\n",
              "    </tr>\n",
              "    <tr>\n",
              "      <th>2</th>\n",
              "      <td>/10000-maniacs/</td>\n",
              "      <td>These Are Days</td>\n",
              "      <td>/10000-maniacs/these-are-days.html</td>\n",
              "      <td>These are. These are days you'll remember. Nev...</td>\n",
              "      <td>ENGLISH</td>\n",
              "    </tr>\n",
              "    <tr>\n",
              "      <th>3</th>\n",
              "      <td>/10000-maniacs/</td>\n",
              "      <td>A Campfire Song</td>\n",
              "      <td>/10000-maniacs/a-campfire-song.html</td>\n",
              "      <td>A lie to say, \"O my mountain has coal veins an...</td>\n",
              "      <td>ENGLISH</td>\n",
              "    </tr>\n",
              "    <tr>\n",
              "      <th>4</th>\n",
              "      <td>/10000-maniacs/</td>\n",
              "      <td>Everyday Is Like Sunday</td>\n",
              "      <td>/10000-maniacs/everyday-is-like-sunday.html</td>\n",
              "      <td>Trudging slowly over wet sand. Back to the ben...</td>\n",
              "      <td>ENGLISH</td>\n",
              "    </tr>\n",
              "  </tbody>\n",
              "</table>\n",
              "</div>"
            ],
            "text/plain": [
              "             ALink  ...    Idiom\n",
              "0  /10000-maniacs/  ...  ENGLISH\n",
              "1  /10000-maniacs/  ...  ENGLISH\n",
              "2  /10000-maniacs/  ...  ENGLISH\n",
              "3  /10000-maniacs/  ...  ENGLISH\n",
              "4  /10000-maniacs/  ...  ENGLISH\n",
              "\n",
              "[5 rows x 5 columns]"
            ]
          },
          "metadata": {},
          "execution_count": 5
        }
      ]
    },
    {
      "cell_type": "code",
      "metadata": {
        "colab": {
          "base_uri": "https://localhost:8080/",
          "height": 337
        },
        "id": "t06IRi5O8XDd",
        "outputId": "88f3be3a-e5a0-4a85-ed4d-da98c32eb8de"
      },
      "source": [
        "# Plot lesion count as histogram\n",
        "artists_df['Genre'].value_counts().plot(kind='bar')"
      ],
      "execution_count": 6,
      "outputs": [
        {
          "output_type": "execute_result",
          "data": {
            "text/plain": [
              "<matplotlib.axes._subplots.AxesSubplot at 0x7f0cb1785f50>"
            ]
          },
          "metadata": {},
          "execution_count": 6
        },
        {
          "output_type": "display_data",
          "data": {
            "image/png": "[encoded data removed]",
            "text/plain": [
              "<Figure size 432x288 with 1 Axes>"
            ]
          },
          "metadata": {
            "needs_background": "light"
          }
        }
      ]
    },
    {
      "cell_type": "markdown",
      "metadata": {
        "id": "QTcvn_PhsJRZ"
      },
      "source": [
        "### Remocao de letras duplicatas"
      ]
    },
    {
      "cell_type": "code",
      "metadata": {
        "colab": {
          "base_uri": "https://localhost:8080/",
          "height": 577
        },
        "id": "4xY7L8zho5yR",
        "outputId": "415bc52c-e23a-43de-e017-7e101a993b67"
      },
      "source": [
        "lyrics_df.loc[lyrics_df['SName'] == \"Smells Like Teen Spirit\"]"
      ],
      "execution_count": 7,
      "outputs": [
        {
          "output_type": "execute_result",
          "data": {
            "text/html": [
              "<div>\n",
              "<style scoped>\n",
              "    .dataframe tbody tr th:only-of-type {\n",
              "        vertical-align: middle;\n",
              "    }\n",
              "\n",
              "    .dataframe tbody tr th {\n",
              "        vertical-align: top;\n",
              "    }\n",
              "\n",
              "    .dataframe thead th {\n",
              "        text-align: right;\n",
              "    }\n",
              "</style>\n",
              "<table border=\"1\" class=\"dataframe\">\n",
              "  <thead>\n",
              "    <tr style=\"text-align: right;\">\n",
              "      <th></th>\n",
              "      <th>ALink</th>\n",
              "      <th>SName</th>\n",
              "      <th>SLink</th>\n",
              "      <th>Lyric</th>\n",
              "      <th>Idiom</th>\n",
              "    </tr>\n",
              "  </thead>\n",
              "  <tbody>\n",
              "    <tr>\n",
              "      <th>11365</th>\n",
              "      <td>/cassia-eller/</td>\n",
              "      <td>Smells Like Teen Spirit</td>\n",
              "      <td>/cassia-eller/smells-like-teen-spirit.html</td>\n",
              "      <td>Load up on guns, bring your friends. it's fun ...</td>\n",
              "      <td>ENGLISH</td>\n",
              "    </tr>\n",
              "    <tr>\n",
              "      <th>41810</th>\n",
              "      <td>/nirvana/</td>\n",
              "      <td>Smells Like Teen Spirit</td>\n",
              "      <td>/nirvana/smells-like-teen-spirit.html</td>\n",
              "      <td>Load up your guns and bring your friends. It's...</td>\n",
              "      <td>ENGLISH</td>\n",
              "    </tr>\n",
              "    <tr>\n",
              "      <th>41933</th>\n",
              "      <td>/nirvana/</td>\n",
              "      <td>Smells Like Teen Spirit</td>\n",
              "      <td>/nirvana/smells-like-teen-spirit.html</td>\n",
              "      <td>Load up your guns and bring your friends. It's...</td>\n",
              "      <td>ENGLISH</td>\n",
              "    </tr>\n",
              "    <tr>\n",
              "      <th>44748</th>\n",
              "      <td>/patti-smith/</td>\n",
              "      <td>Smells Like Teen Spirit</td>\n",
              "      <td>/patti-smith/smells-like-teen-spirit.html</td>\n",
              "      <td>Load up on guns and bring your friends. It's f...</td>\n",
              "      <td>ENGLISH</td>\n",
              "    </tr>\n",
              "    <tr>\n",
              "      <th>44865</th>\n",
              "      <td>/patti-smith/</td>\n",
              "      <td>Smells Like Teen Spirit</td>\n",
              "      <td>/patti-smith/smells-like-teen-spirit.html</td>\n",
              "      <td>Load up on guns and bring your friends. It's f...</td>\n",
              "      <td>ENGLISH</td>\n",
              "    </tr>\n",
              "    <tr>\n",
              "      <th>68757</th>\n",
              "      <td>/tori-amos/</td>\n",
              "      <td>Smells Like Teen Spirit</td>\n",
              "      <td>/tori-amos/smells-like-teen-spirit.html</td>\n",
              "      <td>Load up on guns and bring your friends. it's f...</td>\n",
              "      <td>ENGLISH</td>\n",
              "    </tr>\n",
              "    <tr>\n",
              "      <th>68992</th>\n",
              "      <td>/tori-amos/</td>\n",
              "      <td>Smells Like Teen Spirit</td>\n",
              "      <td>/tori-amos/smells-like-teen-spirit.html</td>\n",
              "      <td>Load up on guns and bring your friends. it's f...</td>\n",
              "      <td>ENGLISH</td>\n",
              "    </tr>\n",
              "    <tr>\n",
              "      <th>107778</th>\n",
              "      <td>/cassia-eller/</td>\n",
              "      <td>Smells Like Teen Spirit</td>\n",
              "      <td>/cassia-eller/smells-like-teen-spirit.html</td>\n",
              "      <td>Load up on guns, bring your friends. it's fun ...</td>\n",
              "      <td>ENGLISH</td>\n",
              "    </tr>\n",
              "    <tr>\n",
              "      <th>134581</th>\n",
              "      <td>/michael-buble/</td>\n",
              "      <td>Smells Like Teen Spirit</td>\n",
              "      <td>/michael-buble/smells-like-teen-spirit.html</td>\n",
              "      <td>Load up on guns, bring your friends. It's fun ...</td>\n",
              "      <td>ENGLISH</td>\n",
              "    </tr>\n",
              "    <tr>\n",
              "      <th>135539</th>\n",
              "      <td>/miley-cyrus/</td>\n",
              "      <td>Smells Like Teen Spirit</td>\n",
              "      <td>/miley-cyrus/smells-like-teen-spirit.html</td>\n",
              "      <td>Load up your guns and bring your friends. It's...</td>\n",
              "      <td>ENGLISH</td>\n",
              "    </tr>\n",
              "    <tr>\n",
              "      <th>207611</th>\n",
              "      <td>/sambo/</td>\n",
              "      <td>Smells Like Teen Spirit</td>\n",
              "      <td>/sambo/smells-like-teen-spirit.html</td>\n",
              "      <td>(Chorus). Hello, hello,hello,how low. Hello,he...</td>\n",
              "      <td>ENGLISH</td>\n",
              "    </tr>\n",
              "  </tbody>\n",
              "</table>\n",
              "</div>"
            ],
            "text/plain": [
              "                  ALink  ...    Idiom\n",
              "11365    /cassia-eller/  ...  ENGLISH\n",
              "41810         /nirvana/  ...  ENGLISH\n",
              "41933         /nirvana/  ...  ENGLISH\n",
              "44748     /patti-smith/  ...  ENGLISH\n",
              "44865     /patti-smith/  ...  ENGLISH\n",
              "68757       /tori-amos/  ...  ENGLISH\n",
              "68992       /tori-amos/  ...  ENGLISH\n",
              "107778   /cassia-eller/  ...  ENGLISH\n",
              "134581  /michael-buble/  ...  ENGLISH\n",
              "135539    /miley-cyrus/  ...  ENGLISH\n",
              "207611          /sambo/  ...  ENGLISH\n",
              "\n",
              "[11 rows x 5 columns]"
            ]
          },
          "metadata": {},
          "execution_count": 7
        }
      ]
    },
    {
      "cell_type": "code",
      "metadata": {
        "colab": {
          "base_uri": "https://localhost:8080/",
          "height": 385
        },
        "id": "VI-LNkBNqNXn",
        "outputId": "c1c326cd-adb7-4582-900d-8d9955bf6ff2"
      },
      "source": [
        "lyrics_df.drop_duplicates(subset=['SLink', 'Lyric'], inplace=True)\n",
        "\n",
        "lyrics_df.loc[lyrics_df['SName'] == \"Smells Like Teen Spirit\"]"
      ],
      "execution_count": 8,
      "outputs": [
        {
          "output_type": "execute_result",
          "data": {
            "text/html": [
              "<div>\n",
              "<style scoped>\n",
              "    .dataframe tbody tr th:only-of-type {\n",
              "        vertical-align: middle;\n",
              "    }\n",
              "\n",
              "    .dataframe tbody tr th {\n",
              "        vertical-align: top;\n",
              "    }\n",
              "\n",
              "    .dataframe thead th {\n",
              "        text-align: right;\n",
              "    }\n",
              "</style>\n",
              "<table border=\"1\" class=\"dataframe\">\n",
              "  <thead>\n",
              "    <tr style=\"text-align: right;\">\n",
              "      <th></th>\n",
              "      <th>ALink</th>\n",
              "      <th>SName</th>\n",
              "      <th>SLink</th>\n",
              "      <th>Lyric</th>\n",
              "      <th>Idiom</th>\n",
              "    </tr>\n",
              "  </thead>\n",
              "  <tbody>\n",
              "    <tr>\n",
              "      <th>11365</th>\n",
              "      <td>/cassia-eller/</td>\n",
              "      <td>Smells Like Teen Spirit</td>\n",
              "      <td>/cassia-eller/smells-like-teen-spirit.html</td>\n",
              "      <td>Load up on guns, bring your friends. it's fun ...</td>\n",
              "      <td>ENGLISH</td>\n",
              "    </tr>\n",
              "    <tr>\n",
              "      <th>41810</th>\n",
              "      <td>/nirvana/</td>\n",
              "      <td>Smells Like Teen Spirit</td>\n",
              "      <td>/nirvana/smells-like-teen-spirit.html</td>\n",
              "      <td>Load up your guns and bring your friends. It's...</td>\n",
              "      <td>ENGLISH</td>\n",
              "    </tr>\n",
              "    <tr>\n",
              "      <th>44748</th>\n",
              "      <td>/patti-smith/</td>\n",
              "      <td>Smells Like Teen Spirit</td>\n",
              "      <td>/patti-smith/smells-like-teen-spirit.html</td>\n",
              "      <td>Load up on guns and bring your friends. It's f...</td>\n",
              "      <td>ENGLISH</td>\n",
              "    </tr>\n",
              "    <tr>\n",
              "      <th>68757</th>\n",
              "      <td>/tori-amos/</td>\n",
              "      <td>Smells Like Teen Spirit</td>\n",
              "      <td>/tori-amos/smells-like-teen-spirit.html</td>\n",
              "      <td>Load up on guns and bring your friends. it's f...</td>\n",
              "      <td>ENGLISH</td>\n",
              "    </tr>\n",
              "    <tr>\n",
              "      <th>134581</th>\n",
              "      <td>/michael-buble/</td>\n",
              "      <td>Smells Like Teen Spirit</td>\n",
              "      <td>/michael-buble/smells-like-teen-spirit.html</td>\n",
              "      <td>Load up on guns, bring your friends. It's fun ...</td>\n",
              "      <td>ENGLISH</td>\n",
              "    </tr>\n",
              "    <tr>\n",
              "      <th>135539</th>\n",
              "      <td>/miley-cyrus/</td>\n",
              "      <td>Smells Like Teen Spirit</td>\n",
              "      <td>/miley-cyrus/smells-like-teen-spirit.html</td>\n",
              "      <td>Load up your guns and bring your friends. It's...</td>\n",
              "      <td>ENGLISH</td>\n",
              "    </tr>\n",
              "    <tr>\n",
              "      <th>207611</th>\n",
              "      <td>/sambo/</td>\n",
              "      <td>Smells Like Teen Spirit</td>\n",
              "      <td>/sambo/smells-like-teen-spirit.html</td>\n",
              "      <td>(Chorus). Hello, hello,hello,how low. Hello,he...</td>\n",
              "      <td>ENGLISH</td>\n",
              "    </tr>\n",
              "  </tbody>\n",
              "</table>\n",
              "</div>"
            ],
            "text/plain": [
              "                  ALink  ...    Idiom\n",
              "11365    /cassia-eller/  ...  ENGLISH\n",
              "41810         /nirvana/  ...  ENGLISH\n",
              "44748     /patti-smith/  ...  ENGLISH\n",
              "68757       /tori-amos/  ...  ENGLISH\n",
              "134581  /michael-buble/  ...  ENGLISH\n",
              "135539    /miley-cyrus/  ...  ENGLISH\n",
              "207611          /sambo/  ...  ENGLISH\n",
              "\n",
              "[7 rows x 5 columns]"
            ]
          },
          "metadata": {},
          "execution_count": 8
        }
      ]
    },
    {
      "cell_type": "code",
      "metadata": {
        "colab": {
          "base_uri": "https://localhost:8080/",
          "height": 337
        },
        "id": "Or1FHvCdrhR7",
        "outputId": "e7a8f746-e989-40e0-aa89-a6f4bd53ffe3"
      },
      "source": [
        "lyrics_df.loc[lyrics_df['SName'] == \"Under Pressure\"]"
      ],
      "execution_count": 9,
      "outputs": [
        {
          "output_type": "execute_result",
          "data": {
            "text/html": [
              "<div>\n",
              "<style scoped>\n",
              "    .dataframe tbody tr th:only-of-type {\n",
              "        vertical-align: middle;\n",
              "    }\n",
              "\n",
              "    .dataframe tbody tr th {\n",
              "        vertical-align: top;\n",
              "    }\n",
              "\n",
              "    .dataframe thead th {\n",
              "        text-align: right;\n",
              "    }\n",
              "</style>\n",
              "<table border=\"1\" class=\"dataframe\">\n",
              "  <thead>\n",
              "    <tr style=\"text-align: right;\">\n",
              "      <th></th>\n",
              "      <th>ALink</th>\n",
              "      <th>SName</th>\n",
              "      <th>SLink</th>\n",
              "      <th>Lyric</th>\n",
              "      <th>Idiom</th>\n",
              "    </tr>\n",
              "  </thead>\n",
              "  <tbody>\n",
              "    <tr>\n",
              "      <th>15007</th>\n",
              "      <td>/david-bowie/</td>\n",
              "      <td>Under Pressure</td>\n",
              "      <td>/david-bowie/under-pressure.html</td>\n",
              "      <td>Bah, bah, bah, bah, bah, bah, bah, bah. Bah, b...</td>\n",
              "      <td>ENGLISH</td>\n",
              "    </tr>\n",
              "    <tr>\n",
              "      <th>30529</th>\n",
              "      <td>/keane/</td>\n",
              "      <td>Under Pressure</td>\n",
              "      <td>/keane/under-pressure.html</td>\n",
              "      <td>Pressure pushing down on me. Pressing down on ...</td>\n",
              "      <td>ENGLISH</td>\n",
              "    </tr>\n",
              "    <tr>\n",
              "      <th>67481</th>\n",
              "      <td>/thirty-seconds-to-mars/</td>\n",
              "      <td>Under Pressure</td>\n",
              "      <td>/thirty-seconds-to-mars/pressure.html</td>\n",
              "      <td>Do you tear under pressure?. On fire you're te...</td>\n",
              "      <td>ENGLISH</td>\n",
              "    </tr>\n",
              "    <tr>\n",
              "      <th>85457</th>\n",
              "      <td>/jay-z/</td>\n",
              "      <td>Under Pressure</td>\n",
              "      <td>/jay-z/under-pressure.html</td>\n",
              "      <td>[Dr Dre:]. The long-awaited Detox, trick. 'Cau...</td>\n",
              "      <td>ENGLISH</td>\n",
              "    </tr>\n",
              "    <tr>\n",
              "      <th>96714</th>\n",
              "      <td>/2pac-tupac-shakur/</td>\n",
              "      <td>Under Pressure</td>\n",
              "      <td>/2pac-tupac-shakur/under-pressure.html</td>\n",
              "      <td>(Tupac). Under Pressure. . Yeah, Babyyy. . Whe...</td>\n",
              "      <td>ENGLISH</td>\n",
              "    </tr>\n",
              "    <tr>\n",
              "      <th>140127</th>\n",
              "      <td>/pink/</td>\n",
              "      <td>Under Pressure</td>\n",
              "      <td>/pink/under-pressure.html</td>\n",
              "      <td>Um boom ba bay. Um boom ba bay. Um boom ba ba ...</td>\n",
              "      <td>ENGLISH</td>\n",
              "    </tr>\n",
              "  </tbody>\n",
              "</table>\n",
              "</div>"
            ],
            "text/plain": [
              "                           ALink  ...    Idiom\n",
              "15007              /david-bowie/  ...  ENGLISH\n",
              "30529                    /keane/  ...  ENGLISH\n",
              "67481   /thirty-seconds-to-mars/  ...  ENGLISH\n",
              "85457                    /jay-z/  ...  ENGLISH\n",
              "96714        /2pac-tupac-shakur/  ...  ENGLISH\n",
              "140127                    /pink/  ...  ENGLISH\n",
              "\n",
              "[6 rows x 5 columns]"
            ]
          },
          "metadata": {},
          "execution_count": 9
        }
      ]
    },
    {
      "cell_type": "code",
      "metadata": {
        "colab": {
          "base_uri": "https://localhost:8080/"
        },
        "id": "hSt6yYvgr-Sl",
        "outputId": "bdfd6e62-cda0-4983-d021-70b6b71def16"
      },
      "source": [
        "lyrics_df.info()"
      ],
      "execution_count": 10,
      "outputs": [
        {
          "output_type": "stream",
          "name": "stdout",
          "text": [
            "<class 'pandas.core.frame.DataFrame'>\n",
            "Int64Index: 167499 entries, 0 to 209521\n",
            "Data columns (total 5 columns):\n",
            " #   Column  Non-Null Count   Dtype \n",
            "---  ------  --------------   ----- \n",
            " 0   ALink   167499 non-null  object\n",
            " 1   SName   167499 non-null  object\n",
            " 2   SLink   167499 non-null  object\n",
            " 3   Lyric   167463 non-null  object\n",
            " 4   Idiom   164819 non-null  object\n",
            "dtypes: object(5)\n",
            "memory usage: 7.7+ MB\n"
          ]
        }
      ]
    },
    {
      "cell_type": "markdown",
      "metadata": {
        "id": "cipEgU8Eaug3"
      },
      "source": [
        "### Quantidade de idiomas"
      ]
    },
    {
      "cell_type": "code",
      "metadata": {
        "colab": {
          "base_uri": "https://localhost:8080/"
        },
        "id": "BHn_fYeV9tjm",
        "outputId": "c56a3300-65e3-403f-eff5-7b10bab8b817"
      },
      "source": [
        "lyrics_df['Idiom'].value_counts()"
      ],
      "execution_count": 11,
      "outputs": [
        {
          "output_type": "execute_result",
          "data": {
            "text/plain": [
              "ENGLISH           91611\n",
              "PORTUGUESE        67805\n",
              "SPANISH            3887\n",
              "ITALIAN             544\n",
              "FRENCH              418\n",
              "GERMAN              264\n",
              "KINYARWANDA          73\n",
              "ICELANDIC            36\n",
              "SWEDISH              26\n",
              "FINNISH              24\n",
              "INDONESIAN           14\n",
              "GALICIAN             11\n",
              "DANISH                9\n",
              "BASQUE                8\n",
              "NORWEGIAN             7\n",
              "IRISH                 7\n",
              "TAGALOG               6\n",
              "ESTONIAN              6\n",
              "CROATIAN              6\n",
              "SUNDANESE             5\n",
              "HAITIAN_CREOLE        5\n",
              "CATALAN               5\n",
              "DUTCH                 4\n",
              "RUSSIAN               4\n",
              "MALAY                 4\n",
              "SERBIAN               3\n",
              "SWAHILI               3\n",
              "KURDISH               2\n",
              "TURKISH               2\n",
              "SESOTHO               2\n",
              "JAPANESE              2\n",
              "HMONG                 1\n",
              "HUNGARIAN             1\n",
              "AFRIKAANS             1\n",
              "SLOVENIAN             1\n",
              "WELSH                 1\n",
              "NYANJA                1\n",
              "MALAGASY              1\n",
              "POLISH                1\n",
              "GANDA                 1\n",
              "SLOVAK                1\n",
              "ROMANIAN              1\n",
              "ARABIC                1\n",
              "KOREAN                1\n",
              "BOSNIAN               1\n",
              "CZECH                 1\n",
              "CEBUANO               1\n",
              "Name: Idiom, dtype: int64"
            ]
          },
          "metadata": {},
          "execution_count": 11
        }
      ]
    },
    {
      "cell_type": "code",
      "metadata": {
        "colab": {
          "base_uri": "https://localhost:8080/",
          "height": 895
        },
        "id": "jDWHoC5q_opf",
        "outputId": "f78fc3ce-a26d-435d-84a9-cd57298ff7a0"
      },
      "source": [
        "lyrics_df = lyrics_df[(lyrics_df.Idiom == \"ENGLISH\") | (lyrics_df.Idiom == \"PORTUGUESE\")]\n",
        "\n",
        "print(lyrics_df.info(), end=\"\\n\\n\")\n",
        "print(lyrics_df['Idiom'].value_counts(), end=\"\\n\\n\")\n",
        "lyrics_df"
      ],
      "execution_count": 12,
      "outputs": [
        {
          "output_type": "stream",
          "name": "stdout",
          "text": [
            "<class 'pandas.core.frame.DataFrame'>\n",
            "Int64Index: 159416 entries, 0 to 209521\n",
            "Data columns (total 5 columns):\n",
            " #   Column  Non-Null Count   Dtype \n",
            "---  ------  --------------   ----- \n",
            " 0   ALink   159416 non-null  object\n",
            " 1   SName   159416 non-null  object\n",
            " 2   SLink   159416 non-null  object\n",
            " 3   Lyric   159416 non-null  object\n",
            " 4   Idiom   159416 non-null  object\n",
            "dtypes: object(5)\n",
            "memory usage: 7.3+ MB\n",
            "None\n",
            "\n",
            "ENGLISH       91611\n",
            "PORTUGUESE    67805\n",
            "Name: Idiom, dtype: int64\n",
            "\n"
          ]
        },
        {
          "output_type": "execute_result",
          "data": {
            "text/html": [
              "<div>\n",
              "<style scoped>\n",
              "    .dataframe tbody tr th:only-of-type {\n",
              "        vertical-align: middle;\n",
              "    }\n",
              "\n",
              "    .dataframe tbody tr th {\n",
              "        vertical-align: top;\n",
              "    }\n",
              "\n",
              "    .dataframe thead th {\n",
              "        text-align: right;\n",
              "    }\n",
              "</style>\n",
              "<table border=\"1\" class=\"dataframe\">\n",
              "  <thead>\n",
              "    <tr style=\"text-align: right;\">\n",
              "      <th></th>\n",
              "      <th>ALink</th>\n",
              "      <th>SName</th>\n",
              "      <th>SLink</th>\n",
              "      <th>Lyric</th>\n",
              "      <th>Idiom</th>\n",
              "    </tr>\n",
              "  </thead>\n",
              "  <tbody>\n",
              "    <tr>\n",
              "      <th>0</th>\n",
              "      <td>/10000-maniacs/</td>\n",
              "      <td>More Than This</td>\n",
              "      <td>/10000-maniacs/more-than-this.html</td>\n",
              "      <td>I could feel at the time. There was no way of ...</td>\n",
              "      <td>ENGLISH</td>\n",
              "    </tr>\n",
              "    <tr>\n",
              "      <th>1</th>\n",
              "      <td>/10000-maniacs/</td>\n",
              "      <td>Because The Night</td>\n",
              "      <td>/10000-maniacs/because-the-night.html</td>\n",
              "      <td>Take me now, baby, here as I am. Hold me close...</td>\n",
              "      <td>ENGLISH</td>\n",
              "    </tr>\n",
              "    <tr>\n",
              "      <th>2</th>\n",
              "      <td>/10000-maniacs/</td>\n",
              "      <td>These Are Days</td>\n",
              "      <td>/10000-maniacs/these-are-days.html</td>\n",
              "      <td>These are. These are days you'll remember. Nev...</td>\n",
              "      <td>ENGLISH</td>\n",
              "    </tr>\n",
              "    <tr>\n",
              "      <th>3</th>\n",
              "      <td>/10000-maniacs/</td>\n",
              "      <td>A Campfire Song</td>\n",
              "      <td>/10000-maniacs/a-campfire-song.html</td>\n",
              "      <td>A lie to say, \"O my mountain has coal veins an...</td>\n",
              "      <td>ENGLISH</td>\n",
              "    </tr>\n",
              "    <tr>\n",
              "      <th>4</th>\n",
              "      <td>/10000-maniacs/</td>\n",
              "      <td>Everyday Is Like Sunday</td>\n",
              "      <td>/10000-maniacs/everyday-is-like-sunday.html</td>\n",
              "      <td>Trudging slowly over wet sand. Back to the ben...</td>\n",
              "      <td>ENGLISH</td>\n",
              "    </tr>\n",
              "    <tr>\n",
              "      <th>...</th>\n",
              "      <td>...</td>\n",
              "      <td>...</td>\n",
              "      <td>...</td>\n",
              "      <td>...</td>\n",
              "      <td>...</td>\n",
              "    </tr>\n",
              "    <tr>\n",
              "      <th>209516</th>\n",
              "      <td>/zeca-pagodinho/</td>\n",
              "      <td>Vôo de Paz</td>\n",
              "      <td>/zeca-pagodinho/voo-de-paz.html</td>\n",
              "      <td>Há qualquer coisa entre nós. Que nos priva de ...</td>\n",
              "      <td>PORTUGUESE</td>\n",
              "    </tr>\n",
              "    <tr>\n",
              "      <th>209518</th>\n",
              "      <td>/zeca-pagodinho/</td>\n",
              "      <td>Vou Procurar Esquecer</td>\n",
              "      <td>/zeca-pagodinho/vou-procurar-esquecer.html</td>\n",
              "      <td>Vou procurar um novo amor na minha vida. Porqu...</td>\n",
              "      <td>PORTUGUESE</td>\n",
              "    </tr>\n",
              "    <tr>\n",
              "      <th>209519</th>\n",
              "      <td>/zeca-pagodinho/</td>\n",
              "      <td>Vou Ver Juliana</td>\n",
              "      <td>/zeca-pagodinho/vou-ver-juliana.html</td>\n",
              "      <td>Quando a mare vazá. Vou vê juliana. Vou vê jul...</td>\n",
              "      <td>PORTUGUESE</td>\n",
              "    </tr>\n",
              "    <tr>\n",
              "      <th>209520</th>\n",
              "      <td>/zeca-pagodinho/</td>\n",
              "      <td>Yaô Cadê A Samba / Outro Recado / Hino</td>\n",
              "      <td>/zeca-pagodinho/yao-cade-a-samba-outro-recado-...</td>\n",
              "      <td>Ô Yaô. Yaô, cadê a samba?. Está mangando na cu...</td>\n",
              "      <td>PORTUGUESE</td>\n",
              "    </tr>\n",
              "    <tr>\n",
              "      <th>209521</th>\n",
              "      <td>/zeca-pagodinho/</td>\n",
              "      <td>Zeca, Cadê Você?</td>\n",
              "      <td>/zeca-pagodinho/zeca-cade-voce.html</td>\n",
              "      <td>Ô, Zeca, tu tá morando onde?. Ô, Zeca, tu tá m...</td>\n",
              "      <td>PORTUGUESE</td>\n",
              "    </tr>\n",
              "  </tbody>\n",
              "</table>\n",
              "<p>159416 rows × 5 columns</p>\n",
              "</div>"
            ],
            "text/plain": [
              "                   ALink  ...       Idiom\n",
              "0        /10000-maniacs/  ...     ENGLISH\n",
              "1        /10000-maniacs/  ...     ENGLISH\n",
              "2        /10000-maniacs/  ...     ENGLISH\n",
              "3        /10000-maniacs/  ...     ENGLISH\n",
              "4        /10000-maniacs/  ...     ENGLISH\n",
              "...                  ...  ...         ...\n",
              "209516  /zeca-pagodinho/  ...  PORTUGUESE\n",
              "209518  /zeca-pagodinho/  ...  PORTUGUESE\n",
              "209519  /zeca-pagodinho/  ...  PORTUGUESE\n",
              "209520  /zeca-pagodinho/  ...  PORTUGUESE\n",
              "209521  /zeca-pagodinho/  ...  PORTUGUESE\n",
              "\n",
              "[159416 rows x 5 columns]"
            ]
          },
          "metadata": {},
          "execution_count": 12
        }
      ]
    },
    {
      "cell_type": "markdown",
      "metadata": {
        "id": "1H4SdrhObfEx"
      },
      "source": [
        "### Separacao dos artistas por gênero"
      ]
    },
    {
      "cell_type": "code",
      "metadata": {
        "colab": {
          "base_uri": "https://localhost:8080/"
        },
        "id": "T709vvmdiIgh",
        "outputId": "393649b4-dcb6-4f61-9159-a8781fafb1b2"
      },
      "source": [
        "genres = pd.Series(artists_df.Genre.values, index=artists_df.Link).to_dict()\n",
        "\n",
        "genres"
      ],
      "execution_count": 13,
      "outputs": [
        {
          "output_type": "execute_result",
          "data": {
            "text/plain": [
              "{'/10000-maniacs/': 'Pop',\n",
              " '/12-stones/': 'Rock',\n",
              " '/311/': 'Rock',\n",
              " '/4-non-blondes/': 'Rock',\n",
              " '/a-cruz-esta-vazia/': 'Rock',\n",
              " '/aborto-eletrico/': 'Rock',\n",
              " '/abril/': 'Rock',\n",
              " '/abuse/': 'Rock',\n",
              " '/ac-dc/': 'Rock',\n",
              " '/aceia/': 'Rock',\n",
              " '/acid-tree/': 'Rock',\n",
              " '/adam-lambert/': 'Rock',\n",
              " '/adrian-suirady/': 'Rock',\n",
              " '/aerosmith/': 'Rock',\n",
              " '/aliados/': 'Rock',\n",
              " '/alice-cooper/': 'Rock',\n",
              " '/alter-bridge/': 'Rock',\n",
              " '/amy-lee/': 'Rock',\n",
              " '/anberlin/': 'Rock',\n",
              " '/andi-deris/': 'Rock',\n",
              " '/andrew-w-k/': 'Rock',\n",
              " '/andy-brasil/': 'Rock',\n",
              " '/angra/': 'Rock',\n",
              " '/arthur-brown/': 'Rock',\n",
              " '/asking-alexandria/': 'Rock',\n",
              " '/autoramas/': 'Rock',\n",
              " '/avante/': 'Rock',\n",
              " '/aylah/': 'Rock',\n",
              " '/badfinger/': 'Rock',\n",
              " '/banda-base/': 'Rock',\n",
              " '/banda-contraplano/': 'Rock',\n",
              " '/banda-hodsi/': 'Rock',\n",
              " '/banda-sinara/': 'Rock',\n",
              " '/banda-upfive/': 'Rock',\n",
              " '/banda-www/': 'Rock',\n",
              " '/barao-vermelho/': 'Rock',\n",
              " '/barba-grunge/': 'Rock',\n",
              " '/beady-eye/': 'Rock',\n",
              " '/beastie-boys/': 'Rock',\n",
              " '/beeshop/': 'Rock',\n",
              " '/ben-harper/': 'Rock',\n",
              " '/bens-brother/': 'Rock',\n",
              " '/bili/': 'Rock',\n",
              " '/billy-burnette/': 'Rock',\n",
              " '/biosystem-55/': 'Rock',\n",
              " '/biquini-cavadao/': 'Rock',\n",
              " '/black-veil-brides/': 'Rock',\n",
              " '/bleach/': 'Rock',\n",
              " '/bleck-a-bamba/': 'Hip Hop',\n",
              " '/blowdrivers/': 'Rock',\n",
              " '/blur/': 'Rock',\n",
              " '/box-47/': 'Rock',\n",
              " '/breaking-benjamin/': 'Rock',\n",
              " '/bring-me-the-horizon/': 'Rock',\n",
              " '/bruce-springsteen/': 'Rock',\n",
              " '/buddy-holly/': 'Rock',\n",
              " '/buffalo-springfield/': 'Rock',\n",
              " '/bula/': 'Rock',\n",
              " '/bumblefoot/': 'Rock',\n",
              " '/bush/': 'Rock',\n",
              " '/cachorro-grande/': 'Rock',\n",
              " '/cambio-negro-hc/': 'Rock',\n",
              " '/camisa-de-venus/': 'Rock',\n",
              " '/camp-rock/': 'Rock',\n",
              " '/carbona/': 'Rock',\n",
              " '/carioca/': 'Rock',\n",
              " '/dr-cascadura/': 'Rock',\n",
              " '/cassia-eller/': 'Rock',\n",
              " '/castello-do-rei/': 'Rock',\n",
              " '/chantal-kreviazuk/': 'Rock',\n",
              " '/charge/': 'Rock',\n",
              " '/chris-cornell/': 'Rock',\n",
              " '/chris-isaak/': 'Rock',\n",
              " '/chris-richardson/': 'Pop',\n",
              " '/cinema-bizarre/': 'Rock',\n",
              " '/claudio-henrique-seven-music/': 'Sertanejo',\n",
              " '/cleiton-sabino/': 'Rock',\n",
              " '/cliff-richard-and-the-shadows/': 'Rock',\n",
              " '/coheed-and-cambria/': 'Rock',\n",
              " '/comunidade-zen/': 'Rock',\n",
              " '/coppala/': 'Rock',\n",
              " '/crazy-horse-11/': 'Rock',\n",
              " '/cream/': 'Rock',\n",
              " '/creedence-clearwater-revival/': 'Rock',\n",
              " '/crowded-house/': 'Rock',\n",
              " '/dan-auerbach/': 'Rock',\n",
              " '/danko-jones/': 'Rock',\n",
              " '/danni-carlos/': 'Rock',\n",
              " '/daughtry/': 'Rock',\n",
              " '/david-bowie/': 'Rock',\n",
              " '/deftones/': 'Rock',\n",
              " '/desprezo-in-cadencia/': 'Rock',\n",
              " '/didaticos/': 'Rock',\n",
              " '/dido/': 'Pop',\n",
              " '/diego-perin/': 'Rock',\n",
              " '/dirty-pretty-things/': 'Rock',\n",
              " '/disturbed/': 'Rock',\n",
              " '/dog-eat-dog/': 'Rock',\n",
              " '/dr-sin/': 'Rock',\n",
              " '/drake-bell/': 'Rock',\n",
              " '/drive/': 'Rock',\n",
              " '/drop-hope/': 'Rock',\n",
              " '/dying-kingdom/': 'Rock',\n",
              " '/eagle-eye-cherry/': 'Rock',\n",
              " '/edgar-vidart/': 'Rock',\n",
              " '/edson-ferreira/': 'Pop',\n",
              " '/eduardo-araujo/': 'Rock',\n",
              " '/efemera/': 'Rock',\n",
              " '/electronic/': 'Rock',\n",
              " '/emmerson-nogueira/': 'Pop',\n",
              " '/endeverafter/': 'Rock',\n",
              " '/erasmo-carlos/': 'Rock',\n",
              " '/eric-clapton/': 'Rock',\n",
              " '/esc/': 'Rock',\n",
              " '/esquerita/': 'Rock',\n",
              " '/esteban/': 'Rock',\n",
              " '/evanescence/': 'Rock',\n",
              " '/expublico/': 'Rock',\n",
              " '/falling-up/': 'Rock',\n",
              " '/fator-7/': 'Rock',\n",
              " '/fide/': 'Rock',\n",
              " '/fincabaute/': 'Pop',\n",
              " '/fiona-apple/': 'Rock',\n",
              " '/fiuk/': 'Pop',\n",
              " '/five-dons/': 'Rock',\n",
              " '/flyleaf/': 'Rock',\n",
              " '/frejat/': 'Rock',\n",
              " '/george-michael/': 'Rock',\n",
              " '/georgios/': 'Pop',\n",
              " '/gloria/': 'Rock',\n",
              " '/gold-n-soul/': 'Pop',\n",
              " '/gorillaz/': 'Hip Hop',\n",
              " '/grand-funk-railroad/': 'Rock',\n",
              " '/green-day/': 'Rock',\n",
              " '/greta-van-fleet/': 'Rock',\n",
              " '/gustavo-goulart/': 'Pop',\n",
              " '/hazee/': 'Rock',\n",
              " '/heart/': 'Rock',\n",
              " '/him/': 'Rock',\n",
              " '/hinder/': 'Rock',\n",
              " '/hollywood-rose/': 'Rock',\n",
              " '/hollywood-undead/': 'Rock',\n",
              " '/hoobastank/': 'Rock',\n",
              " '/hori/': 'Pop',\n",
              " '/hurry-up/': 'Rock',\n",
              " '/imagine-dragons/': 'Rock',\n",
              " '/incerta/': 'Rock',\n",
              " '/incubus/': 'Rock',\n",
              " '/instinto/': 'Rock',\n",
              " '/interceptor/': 'Rock',\n",
              " '/intrepida/': 'Rock',\n",
              " '/invasores-11/': 'Rock',\n",
              " '/inventores-do-nada/': 'Rock',\n",
              " '/inxs/': 'Pop',\n",
              " '/ira/': 'Rock',\n",
              " '/iron-weasel/': 'Rock',\n",
              " '/ivo-goncalves/': 'Rock',\n",
              " '/janes-addiction/': 'Rock',\n",
              " '/janis-joplin/': 'Rock',\n",
              " '/jars-of-clay/': 'Rock',\n",
              " '/jason-vargas/': 'Rock',\n",
              " '/jesse-pedra-trio/': 'Rock',\n",
              " '/jet/': 'Rock',\n",
              " '/jimi-hendrix/': 'Rock',\n",
              " '/jimmy-breedlove/': 'Rock',\n",
              " '/jimmy-eat-world/': 'Rock',\n",
              " '/joan-jett-the-blackhearts/': 'Rock',\n",
              " '/joao-cascaio/': 'Rock',\n",
              " '/joao8/': 'Rock',\n",
              " '/joe-perry-project/': 'Rock',\n",
              " '/john-lennon/': 'Rock',\n",
              " '/john-people/': 'Rock',\n",
              " '/john-tennessee/': 'Rock',\n",
              " '/johnny-rivers/': 'Rock',\n",
              " '/johnny-winter/': 'Rock',\n",
              " '/juliette-lewis-and-the-licks/': 'Rock',\n",
              " '/kedart-alexandro/': 'Rock',\n",
              " '/kiss/': 'Rock',\n",
              " '/krv/': 'Rock',\n",
              " '/kt-tunstall/': 'Rock',\n",
              " '/lagum/': 'Rock',\n",
              " '/lambertos/': 'Rock',\n",
              " '/larg/': 'Hip Hop',\n",
              " '/lcsilva/': 'Rock',\n",
              " '/led-zeppelin/': 'Rock',\n",
              " '/leela/': 'Rock',\n",
              " '/legiao-urbana/': 'Rock',\n",
              " '/lenhadores-da-galaxia/': 'Rock',\n",
              " '/lenny-kravitz/': 'Rock',\n",
              " '/liam-gallagher/': 'Rock',\n",
              " '/lifehouse/': 'Pop',\n",
              " '/like-a-boss/': 'Rock',\n",
              " '/limp-bizkit/': 'Hip Hop',\n",
              " '/linkin-park-jay-z/': 'Hip Hop',\n",
              " '/lipstick/': 'Rock',\n",
              " '/lisura/': 'Rock',\n",
              " '/lobao/': 'Rock',\n",
              " '/lonsdale-boys-club/': 'Rock',\n",
              " '/los-cunhados/': 'Rock',\n",
              " '/lou-reed/': 'Rock',\n",
              " '/love/': 'Rock',\n",
              " '/lucas-ray-exp/': 'Rock',\n",
              " '/lutadores-guerreiros/': 'Rock',\n",
              " '/luvic/': 'Rock',\n",
              " '/lynyrd-skynyrd/': 'Rock',\n",
              " '/maicon-egot/': 'Pop',\n",
              " '/mara/': 'Rock',\n",
              " '/marcelo-miglioli-e-bryan-ryus/': 'Rock',\n",
              " '/marcelo-nova/': 'Rock',\n",
              " '/marcos-elemento/': 'Rock',\n",
              " '/marianne-faithfull/': 'Rock',\n",
              " '/marino-scheid/': 'Rock',\n",
              " '/marku-ribas/': 'Rock',\n",
              " '/maroon-5/': 'Rock',\n",
              " '/matchbox-20/': 'Rock',\n",
              " '/mauricio-leal/': 'Rock',\n",
              " '/megaira/': 'Rock',\n",
              " '/men-at-work/': 'Rock',\n",
              " '/meredith-brooks/': 'Rock',\n",
              " '/metallica/': 'Rock',\n",
              " '/michael-kiske/': 'Rock',\n",
              " '/michelle-branch/': 'Pop',\n",
              " '/mindflow/': 'Rock',\n",
              " '/misstake/': 'Rock',\n",
              " '/monno/': 'Rock',\n",
              " '/moptop/': 'Rock',\n",
              " '/moskkana/': 'Rock',\n",
              " '/os-mutantes/': 'Rock',\n",
              " '/natalie-merchant/': 'Rock',\n",
              " '/nazareth/': 'Rock',\n",
              " '/neil-young/': 'Rock',\n",
              " '/new-model-army/': 'Rock',\n",
              " '/nick-cave-the-bad-seeds/': 'Rock',\n",
              " '/nirvana/': 'Rock',\n",
              " '/no-doubt/': 'Rock',\n",
              " '/nomaci/': 'Rock',\n",
              " '/normalayze/': 'Rock',\n",
              " '/nos-e-os-passaros/': 'Rock',\n",
              " '/nova/': 'Rock',\n",
              " '/nove-mil-anjos/': 'Rock',\n",
              " '/novo-leo/': 'Rock',\n",
              " '/o-surto/': 'Rock',\n",
              " '/o-traste-mudo/': 'Rock',\n",
              " '/oar/': 'Pop',\n",
              " '/oito-ponto-zero/': 'Rock',\n",
              " '/olhos-de-psique/': 'Rock',\n",
              " '/os-seminovos/': 'Rock',\n",
              " '/ou20s/': 'Rock',\n",
              " '/ozzy-osbourne/': 'Rock',\n",
              " '/p-o-d/': 'Rock',\n",
              " '/pad/': 'Rock',\n",
              " '/pamplona/': 'Rock',\n",
              " '/papa-roach/': 'Rock',\n",
              " '/pat-benatar/': 'Rock',\n",
              " '/pato-fu/': 'Pop',\n",
              " '/patrola/': 'Rock',\n",
              " '/patti-smith/': 'Rock',\n",
              " '/paul-gilbert/': 'Rock',\n",
              " '/paul-mccartney/': 'Rock',\n",
              " '/pg/': 'Rock',\n",
              " '/placebo/': 'Rock',\n",
              " '/poets-of-the-fall/': 'Rock',\n",
              " '/pousatigres/': 'Rock',\n",
              " '/pragah/': 'Rock',\n",
              " '/projeto-paralelo-stm/': 'Rock',\n",
              " '/puddle-of-mudd/': 'Rock',\n",
              " '/purple-eyed-raven/': 'Rock',\n",
              " '/queen/': 'Rock',\n",
              " '/queens-of-the-stone-age/': 'Rock',\n",
              " '/r-e-m/': 'Rock',\n",
              " '/rage-against-the-machine/': 'Rock',\n",
              " '/rammstein/': 'Rock',\n",
              " '/the-ramones/': 'Rock',\n",
              " '/rapeize/': 'Rock',\n",
              " '/rascal-experience/': 'Rock',\n",
              " '/raul-seixas/': 'Rock',\n",
              " '/red/': 'Rock',\n",
              " '/red-light-dc/': 'Rock',\n",
              " '/reduto/': 'Rock',\n",
              " '/renato-russo/': 'Rock',\n",
              " '/revolucao-rock/': 'Rock',\n",
              " '/revolverheld/': 'Rock',\n",
              " '/banda-rezet/': 'Rock',\n",
              " '/rhino-head/': 'Rock',\n",
              " '/richard-thompson/': 'Rock',\n",
              " '/sambora-richie/': 'Rock',\n",
              " '/rick-rock/': 'Pop',\n",
              " '/rising-heart/': 'Rock',\n",
              " '/rita-lee/': 'Rock',\n",
              " '/ritchie-valens/': 'Rock',\n",
              " '/riviera/': 'Rock',\n",
              " '/rod-stewart/': 'Rock',\n",
              " '/rodox/': 'Rock',\n",
              " '/rodrigo-lamore/': 'Rock',\n",
              " '/rollercoaster-band/': 'Rock',\n",
              " '/roxette/': 'Rock',\n",
              " '/rpm/': 'Rock',\n",
              " '/ryan-adams/': 'Rock',\n",
              " '/santana/': 'Rock',\n",
              " '/sarah-mclachlan/': 'Rock',\n",
              " '/saul/': 'Rock',\n",
              " '/scars-on-broadway/': 'Rock',\n",
              " '/scorpions/': 'Rock',\n",
              " '/scott-stapp/': 'Rock',\n",
              " '/seether/': 'Rock',\n",
              " '/septembre/': 'Rock',\n",
              " '/sheena-ye/': 'Rock',\n",
              " '/sheryl-crow/': 'Rock',\n",
              " '/shinedown/': 'Rock',\n",
              " '/silverchair/': 'Rock',\n",
              " '/sixx-a-m/': 'Rock',\n",
              " '/slade/': 'Rock',\n",
              " '/slashs-snakepit/': 'Rock',\n",
              " '/small-faces/': 'Rock',\n",
              " '/solar/': 'Rock',\n",
              " '/sonic-youth/': 'Rock',\n",
              " '/soul-asylum/': 'Rock',\n",
              " '/souls-of-rage/': 'Rock',\n",
              " '/sound-of-june/': 'Rock',\n",
              " '/soundgarden/': 'Rock',\n",
              " '/spy/': 'Rock',\n",
              " '/sr-bamba/': 'Rock',\n",
              " '/staind/': 'Rock',\n",
              " '/stereophonics/': 'Rock',\n",
              " '/steve-earle/': 'Rock',\n",
              " '/steven-tyler/': 'Rock',\n",
              " '/stevie-nicks/': 'Rock',\n",
              " '/stone-breeze/': 'Rock',\n",
              " '/stone-sour/': 'Rock',\n",
              " '/suite7/': 'Rock',\n",
              " '/sunny9/': 'Rock',\n",
              " '/ted-nugent/': 'Rock',\n",
              " '/tenacious-d/': 'Rock',\n",
              " '/teoria-do-caos/': 'Rock',\n",
              " '/the-animals/': 'Rock',\n",
              " '/the-automatic/': 'Rock',\n",
              " '/the-band/': 'Rock',\n",
              " '/the-beatles/': 'Rock',\n",
              " '/the-byrds/': 'Rock',\n",
              " '/cramps/': 'Rock',\n",
              " '/the-cult/': 'Rock',\n",
              " '/the-dead-weather/': 'Rock',\n",
              " '/the-donnas/': 'Rock',\n",
              " '/the-ed-sons/': 'Rock',\n",
              " '/faces/': 'Rock',\n",
              " '/the-gathering/': 'Rock',\n",
              " '/the-good-the-bad-the-queen/': 'Rock',\n",
              " '/the-hives/': 'Rock',\n",
              " '/the-jesus-and-mary-chain/': 'Rock',\n",
              " '/the-kooks/': 'Rock',\n",
              " '/the-lemonheads/': 'Rock',\n",
              " '/the-melties/': 'Rock',\n",
              " '/the-million-dollar-quartet/': 'Rock',\n",
              " '/monks/': 'Rock',\n",
              " '/the-panic-channel/': 'Rock',\n",
              " '/the-police/': 'Rock',\n",
              " '/the-portinaris/': 'Rock',\n",
              " '/the-rasmus/': 'Rock',\n",
              " '/the-red-jumpsuit-apparatus/': 'Rock',\n",
              " '/the-stone-roses/': 'Rock',\n",
              " '/the-trashmen/': 'Rock',\n",
              " '/the-verve/': 'Rock',\n",
              " '/the-vines/': 'Rock',\n",
              " '/the-who/': 'Rock',\n",
              " '/theoria-dinamica/': 'Rock',\n",
              " '/theory-of-a-deadman/': 'Rock',\n",
              " '/thousand-foot-krutch/': 'Rock',\n",
              " '/three-days-grace/': 'Rock',\n",
              " '/thunderbird-e-devotos-dnsa/': 'Rock',\n",
              " '/tihuana/': 'Rock',\n",
              " '/tnt-brasil/': 'Rock',\n",
              " '/to-have-heroes/': 'Rock',\n",
              " '/toby-mac/': 'Hip Hop',\n",
              " '/tom-petty-and-the-heartbreakers/': 'Rock',\n",
              " '/banda-topaz/': 'Rock',\n",
              " '/tori-amos/': 'Rock',\n",
              " '/tori-nogueira/': 'Pop',\n",
              " '/torugo-teles/': 'Pop',\n",
              " '/trampa/': 'Rock',\n",
              " '/trezalt/': 'Rock',\n",
              " '/tupiniquin/': 'Rock',\n",
              " '/u2/': 'Rock',\n",
              " '/ultima-tribo/': 'Rock',\n",
              " '/ultraje-a-rigor/': 'Rock',\n",
              " '/van-morrison/': 'Rock',\n",
              " '/vate-cabal/': 'Rock',\n",
              " '/velhas-virgens/': 'Rock',\n",
              " '/velvet-underground/': 'Rock',\n",
              " '/venus-cafe/': 'Rock',\n",
              " '/vintage-play/': 'Rock',\n",
              " '/vitor-de-martinelli/': 'Rock',\n",
              " '/vock/': 'Rock',\n",
              " '/volver/': 'Rock',\n",
              " '/warren-zevon/': 'Rock',\n",
              " '/the-white-stripes/': 'Rock',\n",
              " '/wilco/': 'Rock',\n",
              " '/within-temptation/': 'Rock',\n",
              " '/wolfmother/': 'Rock',\n",
              " '/wwe/': 'Hip Hop',\n",
              " '/yannick-hara/': 'Rock',\n",
              " '/yes/': 'Rock',\n",
              " '/yves-klein-blue/': 'Rock',\n",
              " '/zereff/': 'Rock',\n",
              " '/zombies-ate-my-heart/': 'Rock',\n",
              " '/zumzera-e-guilherme/': 'Sertanejo',\n",
              " '/zz-top/': 'Rock',\n",
              " '/18-k/': 'Hip Hop',\n",
              " '/2-chainz/': 'Hip Hop',\n",
              " '/21-savage/': 'Hip Hop',\n",
              " '/2multo/': 'Hip Hop',\n",
              " '/3-de-espadas/': 'Hip Hop',\n",
              " '/3preto/': 'Hip Hop',\n",
              " '/3zi/': 'Hip Hop',\n",
              " '/50-cent/': 'Hip Hop',\n",
              " '/a-firma/': 'Hip Hop',\n",
              " '/a-fuga/': 'Hip Hop',\n",
              " '/afirmativa/': 'Hip Hop',\n",
              " '/afrorap-system/': 'Hip Hop',\n",
              " '/al-kimia-47/': 'Hip Hop',\n",
              " '/aliados-da-realidade/': 'Hip Hop',\n",
              " '/alpha-fernandes/': 'Hip Hop',\n",
              " '/anamnese/': 'Hip Hop',\n",
              " '/anderson-de-souza/': 'Hip Hop',\n",
              " '/ao-cubo/': 'Hip Hop',\n",
              " '/arrete/': 'Pop',\n",
              " '/ashanti/': 'Hip Hop',\n",
              " '/b-gizzle/': 'Hip Hop',\n",
              " '/b2k/': 'Hip Hop',\n",
              " '/bacurau-mc/': 'Hip Hop',\n",
              " '/bad-meets-evil/': 'Hip Hop',\n",
              " '/baixada-rap/': 'Hip Hop',\n",
              " '/bazan/': 'Hip Hop',\n",
              " '/beyonce/': 'Pop',\n",
              " '/blake-lewis/': 'Hip Hop',\n",
              " '/boca-do-flow-bdf/': 'Hip Hop',\n",
              " '/bonde-da-stronda/': 'Hip Hop',\n",
              " '/bruninho-king/': 'Hip Hop',\n",
              " '/bun-b/': 'Hip Hop',\n",
              " '/c4bal/': 'Hip Hop',\n",
              " '/califa-mcs/': 'Hip Hop',\n",
              " '/camar/': 'Hip Hop',\n",
              " '/cardi-b/': 'Hip Hop',\n",
              " '/carte-la/': 'Hip Hop',\n",
              " '/central6/': 'Hip Hop',\n",
              " '/ch3p-mc/': 'Hip Hop',\n",
              " '/chance-the-rapper/': 'Hip Hop',\n",
              " '/cher-lloyd/': 'Pop',\n",
              " '/cherish/': 'Hip Hop',\n",
              " '/chris-webby/': 'Hip Hop',\n",
              " '/ciara/': 'Hip Hop',\n",
              " '/classe-clandestina/': 'Hip Hop',\n",
              " '/closed-heart-surgery/': 'Hip Hop',\n",
              " '/colby-o-donis/': 'Pop',\n",
              " '/common/': 'Hip Hop',\n",
              " '/connect-rap-cnr/': 'Hip Hop',\n",
              " '/connexao-017/': 'Hip Hop',\n",
              " '/cordel-mcs/': 'Hip Hop',\n",
              " '/cory-gunz/': 'Hip Hop',\n",
              " '/cris-snj/': 'Hip Hop',\n",
              " '/cristian-moura/': 'Hip Hop',\n",
              " '/d-woods/': 'Pop',\n",
              " '/daivao/': 'Hip Hop',\n",
              " '/danny-brown/': 'Hip Hop',\n",
              " '/dapt/': 'Hip Hop',\n",
              " '/debrete/': 'Hip Hop',\n",
              " '/deejay-fb/': 'Hip Hop',\n",
              " '/delein-mc/': 'Hip Hop',\n",
              " '/desastre-natural-011/': 'Hip Hop',\n",
              " '/diih/': 'Hip Hop',\n",
              " '/dj-khaled/': 'Hip Hop',\n",
              " '/don-essiele/': 'Hip Hop',\n",
              " '/duzzao/': 'Hip Hop',\n",
              " '/e-40/': 'Hip Hop',\n",
              " '/eamon/': 'Hip Hop',\n",
              " '/ed-sheeran-yelawolf/': 'Hip Hop',\n",
              " '/edurafasom/': 'Hip Hop',\n",
              " '/edvan-junior/': 'Hip Hop',\n",
              " '/el-pinche-don/': 'Hip Hop',\n",
              " '/elias-o-pensador/': 'Hip Hop',\n",
              " '/emicida/': 'Hip Hop',\n",
              " '/eminem/': 'Hip Hop',\n",
              " '/euferico/': 'Hip Hop',\n",
              " '/fabio-coco/': 'Pop',\n",
              " '/faccao-central/': 'Hip Hop',\n",
              " '/familia-4-vidas/': 'Hip Hop',\n",
              " '/familia-nacional/': 'Hip Hop',\n",
              " '/fat-joe/': 'Hip Hop',\n",
              " '/felipe-br-p/': 'Hip Hop',\n",
              " '/fenice/': 'Hip Hop',\n",
              " '/fergie/': 'Pop',\n",
              " '/ficasolto/': 'Hip Hop',\n",
              " '/floco/': 'Hip Hop',\n",
              " '/flowniggas/': 'Hip Hop',\n",
              " '/fort-minor/': 'Hip Hop',\n",
              " '/foxy-brown/': 'Hip Hop',\n",
              " '/frank-ocean/': 'Hip Hop',\n",
              " '/franky-fade/': 'Hip Hop',\n",
              " '/fromrom/': 'Hip Hop',\n",
              " '/fuse/': 'Samba',\n",
              " '/g-unit/': 'Hip Hop',\n",
              " '/gabriel-graziano-gzk/': 'Hip Hop',\n",
              " '/gabriel-shak/': 'Hip Hop',\n",
              " '/gangsters-thi/': 'Hip Hop',\n",
              " '/glasses-malone/': 'Hip Hop',\n",
              " '/gloc/': 'Hip Hop',\n",
              " '/gorilla-152/': 'Hip Hop',\n",
              " '/grits/': 'Hip Hop',\n",
              " '/gudda-gudda/': 'Hip Hop',\n",
              " '/gym-class-heroes/': 'Hip Hop',\n",
              " '/hantaru/': 'Hip Hop',\n",
              " '/hanz/': 'Hip Hop',\n",
              " '/hoodie-allen/': 'Pop',\n",
              " '/ideologia-letal/': 'Hip Hop',\n",
              " '/indio/': 'Hip Hop',\n",
              " '/influencia-positiva/': 'Hip Hop',\n",
              " '/iyaz/': 'Pop',\n",
              " '/izzo/': 'Hip Hop',\n",
              " '/j-c-skilla/': 'Hip Hop',\n",
              " '/ja-rule/': 'Hip Hop',\n",
              " '/jadakiss/': 'Hip Hop',\n",
              " '/jae-millz/': 'Hip Hop',\n",
              " '/jao-cr/': 'Hip Hop',\n",
              " '/jason-derulo/': 'Hip Hop',\n",
              " '/jay-sean/': 'Hip Hop',\n",
              " '/jay-z/': 'Hip Hop',\n",
              " '/jeremih/': 'Hip Hop',\n",
              " '/jhef/': 'Hip Hop',\n",
              " '/jhene-aiko/': 'Hip Hop',\n",
              " '/jhonis/': 'Pop',\n",
              " '/john-cena/': 'Hip Hop',\n",
              " '/jolix-christian/': 'Hip Hop',\n",
              " '/jota-p/': 'Hip Hop',\n",
              " '/jotape-mc/': 'Hip Hop',\n",
              " '/jp-mc/': 'Hip Hop',\n",
              " '/ju-dorotea/': 'Hip Hop',\n",
              " '/juss-louie/': 'Hip Hop',\n",
              " '/justin-timberlake/': 'Pop',\n",
              " '/justizzy-lion/': 'Hip Hop',\n",
              " '/kanye-west/': 'Hip Hop',\n",
              " '/karmin/': 'Hip Hop',\n",
              " '/kehlani/': 'Hip Hop',\n",
              " '/kid-cudi/': 'Hip Hop',\n",
              " '/kobs/': 'Hip Hop',\n",
              " '/kreayshawn/': 'Hip Hop',\n",
              " '/kris-kross/': 'Hip Hop',\n",
              " '/kroz/': 'Hip Hop',\n",
              " '/kyle-lucas/': 'Hip Hop',\n",
              " '/l-zee/': 'Hip Hop',\n",
              " '/l-thug/': 'Hip Hop',\n",
              " '/lakatos-mc/': 'Hip Hop',\n",
              " '/lakim-gatz/': 'Hip Hop',\n",
              " '/lecrae/': 'Hip Hop',\n",
              " '/leo-kiss/': 'Funk Carioca',\n",
              " '/les-mc/': 'Hip Hop',\n",
              " '/levon/': 'Hip Hop',\n",
              " '/lil-chuckee/': 'Hip Hop',\n",
              " '/lil-mama/': 'Hip Hop',\n",
              " '/linha-fina/': 'Hip Hop',\n",
              " '/lmfao/': 'Pop',\n",
              " '/logan/': 'Hip Hop',\n",
              " '/logan-kreed/': 'Hip Hop',\n",
              " '/luiz-o-visitante/': 'Hip Hop',\n",
              " '/lune-piramide-mob/': 'Hip Hop',\n",
              " '/m-j/': 'Hip Hop',\n",
              " '/mac-miller/': 'Pop',\n",
              " '/maddiba/': 'Hip Hop',\n",
              " '/mafia-dogs/': 'Hip Hop',\n",
              " '/mag/': 'Hip Hop',\n",
              " '/malik-mustache/': 'Hip Hop',\n",
              " '/mano-chriz/': 'Hip Hop',\n",
              " '/maraka/': 'Hip Hop',\n",
              " '/marcelo-d2/': 'Samba',\n",
              " '/mariana-lima/': 'Hip Hop',\n",
              " '/materia-escura/': 'Hip Hop',\n",
              " '/matheus-c-maraj/': 'Hip Hop',\n",
              " '/matheus-maxxt/': 'Hip Hop',\n",
              " '/matilha79/': 'Hip Hop',\n",
              " '/mc-bonne/': 'Hip Hop',\n",
              " '/mc-dyou/': 'Hip Hop',\n",
              " '/mc-filipe-2/': 'Hip Hop',\n",
              " '/mc-god/': 'Hip Hop',\n",
              " '/mc-guga-da-vg/': 'Hip Hop',\n",
              " '/mc-leoest/': 'Hip Hop',\n",
              " '/mc-patrick-mf/': 'Hip Hop',\n",
              " '/mc-rael-souza/': 'Hip Hop',\n",
              " '/mc-slim-nuts-mc/': 'Hip Hop',\n",
              " '/mc-sluck/': 'Funk Carioca',\n",
              " '/melvin-santhana/': 'Hip Hop',\n",
              " '/menor-pra-cristo/': 'Hip Hop',\n",
              " '/mentenativa-rap/': 'Hip Hop',\n",
              " '/mika-means/': 'Hip Hop',\n",
              " '/mindless-behavior/': 'Pop',\n",
              " '/mon-ra/': 'Hip Hop',\n",
              " '/monarquia-rk/': 'Hip Hop',\n",
              " '/mystikal/': 'Hip Hop',\n",
              " '/n-dubz/': 'Pop',\n",
              " '/ne-yo/': 'Hip Hop',\n",
              " '/nedjo-negueja/': 'Hip Hop',\n",
              " '/nedjo-negueja1/': 'Hip Hop',\n",
              " '/neggzy/': 'Hip Hop',\n",
              " '/negra-li/': 'Hip Hop',\n",
              " '/negru/': 'Hip Hop',\n",
              " '/niko-souza/': 'Hip Hop',\n",
              " '/nilzzy-wamunene/': 'Hip Hop',\n",
              " '/ninguem-precisa-ser-heroi/': 'Hip Hop',\n",
              " '/obie-trice/': 'Hip Hop',\n",
              " '/obstinados/': 'Hip Hop',\n",
              " '/omarion/': 'Hip Hop',\n",
              " '/orbt/': 'Hip Hop',\n",
              " '/pac-div/': 'Hip Hop',\n",
              " '/pacificadores/': 'Hip Hop',\n",
              " '/papo-reto-xii/': 'Hip Hop',\n",
              " '/pharrell-williams/': 'Hip Hop',\n",
              " '/pixel-0/': 'Hip Hop',\n",
              " '/playsson-life-style/': 'Hip Hop',\n",
              " '/poesia-da-pista/': 'Hip Hop',\n",
              " '/pollo/': 'Hip Hop',\n",
              " '/preck/': 'Hip Hop',\n",
              " '/primavera-nacional/': 'Hip Hop',\n",
              " '/priscilla-feniks/': 'Hip Hop',\n",
              " '/projota/': 'Hip Hop',\n",
              " '/protocolomarcial/': 'Hip Hop',\n",
              " '/puff-daddy/': 'Hip Hop',\n",
              " '/racionais-mcs/': 'Hip Hop',\n",
              " '/rafael-viva/': 'Hip Hop',\n",
              " '/rap-com-vida/': 'Hip Hop',\n",
              " '/raphael-brandao/': 'Hip Hop',\n",
              " '/rashid/': 'Hip Hop',\n",
              " '/raul-novo/': 'Hip Hop',\n",
              " '/ray-j/': 'Hip Hop',\n",
              " '/re-pense/': 'Hip Hop',\n",
              " '/revolts-genuino/': 'Hip Hop',\n",
              " '/rihanna/': 'Pop',\n",
              " '/rizzle-kicks/': 'Hip Hop',\n",
              " '/roco-e-diego/': 'Pop',\n",
              " '/sacerdote-semmantiko/': 'Hip Hop',\n",
              " '/sad-song/': 'Hip Hop',\n",
              " '/sanvick-mc/': 'Hip Hop',\n",
              " '/scarub/': 'Hip Hop',\n",
              " '/sean-kingston/': 'Hip Hop',\n",
              " '/sean-paul/': 'Hip Hop',\n",
              " '/sem-limites-sonoros/': 'Hip Hop',\n",
              " '/setor-base/': 'Hip Hop',\n",
              " '/shackal/': 'Hip Hop',\n",
              " '/shanell/': 'Hip Hop',\n",
              " '/sharon-darkside/': 'Hip Hop',\n",
              " '/si-ames-e/': 'Hip Hop',\n",
              " '/slum-village/': 'Hip Hop',\n",
              " '/snoop-dogg/': 'Hip Hop',\n",
              " '/sollos/': 'Hip Hop',\n",
              " '/sonreal/': 'Hip Hop',\n",
              " '/souleye/': 'Hip Hop',\n",
              " '/sticky-fingaz/': 'Hip Hop',\n",
              " '/super-swagger-and-rizyka/': 'Hip Hop',\n",
              " '/suspeitos-na-mira/': 'Hip Hop',\n",
              " '/swag-do-rap/': 'Hip Hop',\n",
              " '/t-i/': 'Hip Hop',\n",
              " '/talibra/': 'Hip Hop',\n",
              " '/tgs/': 'Hip Hop',\n",
              " '/the-black-mc/': 'Hip Hop',\n",
              " '/the-lonely-island/': 'Hip Hop',\n",
              " '/the-malokeiroh/': 'Hip Hop',\n",
              " '/thief/': 'Hip Hop',\n",
              " '/tici-lino/': 'Hip Hop',\n",
              " '/timbaland/': 'Hip Hop',\n",
              " '/torion-sellers/': 'Hip Hop',\n",
              " '/trap-g-o-general/': 'Hip Hop',\n",
              " '/travie-mccoy/': 'Pop',\n",
              " '/trevo-mc/': 'Hip Hop',\n",
              " '/trezeback/': 'Hip Hop',\n",
              " '/tribo-da-periferia/': 'Hip Hop',\n",
              " '/2pac-tupac-shakur/': 'Hip Hop',\n",
              " '/twista/': 'Hip Hop',\n",
              " '/ultima-dose/': 'Hip Hop',\n",
              " '/ultimato-overplay/': 'Hip Hop',\n",
              " '/v3-rec/': 'Hip Hop',\n",
              " '/vagos/': 'Hip Hop',\n",
              " '/vayolla/': 'Pop',\n",
              " '/velozes-e-furiosos/': 'Hip Hop',\n",
              " '/verbo-agressivo/': 'Rock',\n",
              " '/vince-staples/': 'Hip Hop',\n",
              " '/vini-ks/': 'Hip Hop',\n",
              " '/vinnie-paz/': 'Hip Hop',\n",
              " '/vittaw/': 'Hip Hop',\n",
              " '/w-i-l-l-i-p-d-i-n-i/': 'Hip Hop',\n",
              " '/wale/': 'Hip Hop',\n",
              " '/wallacy-gabriel/': 'Pop',\n",
              " '/willow-smith/': 'Hip Hop',\n",
              " '/wretch-32/': 'Hip Hop',\n",
              " '/wu-tang-clan/': 'Hip Hop',\n",
              " '/wyclef-jean/': 'Hip Hop',\n",
              " '/xt-79/': 'Hip Hop',\n",
              " '/xv/': 'Hip Hop',\n",
              " '/xxxtentacion/': 'Hip Hop',\n",
              " '/ya-boy/': 'Hip Hop',\n",
              " '/young-money/': 'Hip Hop',\n",
              " '/yudi-tamashiro/': 'Hip Hop',\n",
              " '/yung-joc/': 'Hip Hop',\n",
              " '/zero-40-hip-hop/': 'Hip Hop',\n",
              " '/zona-027/': 'Hip Hop',\n",
              " '/nsync/': 'Pop',\n",
              " '/2m1/': 'Pop',\n",
              " '/a-ha/': 'Pop',\n",
              " '/a-teens/': 'Hip Hop',\n",
              " '/adriano-andradi/': 'Pop',\n",
              " '/ahlex-a-n/': 'Pop',\n",
              " '/alexandre-ghati/': 'Pop',\n",
              " '/alice-rosa/': 'Pop',\n",
              " '/aline-francelino/': 'Pop',\n",
              " '/aline-willy/': 'Pop',\n",
              " '/allycia/': 'Funk Carioca',\n",
              " '/alvin-the-chipmunks/': 'Pop',\n",
              " '/aly-michalka/': 'Pop',\n",
              " '/amanda-hellem/': 'Pop',\n",
              " '/anahi/': 'Pop',\n",
              " '/anderson-negrine/': 'Pop',\n",
              " '/andy-grammer/': 'Pop',\n",
              " '/anggun/': 'Pop',\n",
              " '/anitta/': 'Funk Carioca',\n",
              " '/anne-m/': 'Pop',\n",
              " '/annie-fabbreschi/': 'Pop',\n",
              " '/antunes/': 'Pop',\n",
              " '/arama/': 'Pop',\n",
              " '/ariana-grande/': 'Pop',\n",
              " '/augustin-bernasconi/': 'Pop',\n",
              " '/aureo-cesar/': 'Pop',\n",
              " '/austin-mahone/': 'Pop',\n",
              " '/banda-zerohum/': 'Sertanejo',\n",
              " '/barbara-castro/': 'Pop',\n",
              " '/beatriz-gospel/': 'Pop',\n",
              " '/beatriz-messias/': 'Pop',\n",
              " '/beatz/': 'Pop',\n",
              " '/becky-g/': 'Hip Hop',\n",
              " '/belinda/': 'Pop',\n",
              " '/belita/': 'Pop',\n",
              " '/big-up/': 'Pop',\n",
              " '/billie-the-vision-and-the-dancers/': 'Pop',\n",
              " '/blue/': 'Pop',\n",
              " '/bopnova/': 'Pop',\n",
              " '/bow-wow-wow/': 'Pop',\n",
              " '/broz/': 'Hip Hop',\n",
              " '/brenno-creezy/': 'Pop',\n",
              " '/bridgit-mendler/': 'Pop',\n",
              " '/britney-spears/': 'Pop',\n",
              " '/bruna-izi-e-lafaiete/': 'Sertanejo',\n",
              " '/bruno-bessa/': 'Pop',\n",
              " '/burlesque-trilha-sonora/': 'Pop',\n",
              " '/caio-dias/': 'Pop',\n",
              " '/caio-lira/': 'Pop',\n",
              " '/camila/': 'Pop',\n",
              " '/camila-cabello/': 'Pop',\n",
              " '/camilla-fernandes/': 'Pop',\n",
              " '/carol-souza/': 'Sertanejo',\n",
              " '/carolina-maria/': 'Pop',\n",
              " '/caroline-gaspar/': 'Pop',\n",
              " '/caroly/': 'Pop',\n",
              " '/carolzi/': 'Pop',\n",
              " '/carpechill/': 'Pop',\n",
              " '/carrossel-de-emocoes/': 'Funk Carioca',\n",
              " '/cash-cash/': 'Pop',\n",
              " '/cassie/': 'Hip Hop',\n",
              " '/charice/': 'Pop',\n",
              " '/charlesilva/': 'Sertanejo',\n",
              " '/the-cheetah-girls/': 'Pop',\n",
              " '/cheryl/': 'Pop',\n",
              " '/jose-christian-chavez/': 'Pop',\n",
              " '/christian-seidl/': 'Pop',\n",
              " '/christina-aguilera/': 'Pop',\n",
              " '/christina-grimmie/': 'Pop',\n",
              " '/christopher-cross/': 'Pop',\n",
              " '/christopher-uckermann/': 'Pop',\n",
              " '/chungha/': 'Pop',\n",
              " '/cimorelli/': 'Pop',\n",
              " '/cine/': 'Pop',\n",
              " '/claudia-leitte/': 'Pop',\n",
              " '/claudinei-oliveira/': 'Sertanejo',\n",
              " '/claudinho-buchecha/': 'Pop',\n",
              " '/cody-simpson/': 'Pop',\n",
              " '/colbie-caillat/': 'Pop',\n",
              " '/complexoj/': 'Pop',\n",
              " '/conor-maynard/': 'Pop',\n",
              " '/conrado-braganca/': 'Pop',\n",
              " '/corbin-bleu/': 'Hip Hop',\n",
              " '/cordas-humanas/': 'Pop',\n",
              " '/cteste/': 'Pop',\n",
              " '/dado-dolabella/': 'Pop',\n",
              " '/dalto/': 'Pop',\n",
              " '/dani-crisani/': 'Pop',\n",
              " '/daniel-pellegrini/': 'Pop',\n",
              " '/daniel-siwek/': 'Pop',\n",
              " '/daniel-y-enrique/': 'Pop',\n",
              " '/daniela-araujo/': 'Pop',\n",
              " '/dave-august/': 'Pop',\n",
              " '/david-archuleta/': 'Pop',\n",
              " '/deborah-campioni/': 'Pop',\n",
              " '/demi-lovato/': 'Pop',\n",
              " '/destro/': 'Pop',\n",
              " '/dima-bilan/': 'Pop',\n",
              " '/diogo-ferreira/': 'Pop',\n",
              " '/diogo-martins/': 'Pop',\n",
              " '/dj-guiih/': 'Pop',\n",
              " '/dj-marlboro/': 'Pop',\n",
              " '/dolls/': 'Pop',\n",
              " '/double-suica/': 'Pop',\n",
              " '/drich/': 'Pop',\n",
              " '/du-rique/': 'Pop',\n",
              " '/dubboy/': 'Pop',\n",
              " '/duffy/': 'Pop',\n",
              " '/edens-crush/': 'Pop',\n",
              " '/edu-gueda/': 'Sertanejo',\n",
              " '/elayne-e-gislayne/': 'Sertanejo',\n",
              " '/ellie-goulding/': 'Pop',\n",
              " '/ellis-oliver/': 'Pop',\n",
              " '/encantado/': 'Pop',\n",
              " '/enzo-paixao/': 'Sertanejo',\n",
              " '/erasure/': 'Pop',\n",
              " '/eric-strada/': 'Sertanejo',\n",
              " '/etto/': 'Pop',\n",
              " '/fabiano-macieira/': 'Pop',\n",
              " '/fase4/': 'Funk Carioca',\n",
              " '/feito-cafe/': 'Pop',\n",
              " '/felipe-dylon/': 'Pop',\n",
              " '/fernanda-lemos/': 'Pop',\n",
              " '/fernando-leite/': 'Pop',\n",
              " '/fifth-harmony/': 'Pop',\n",
              " '/five/': 'Pop',\n",
              " '/fly-br/': 'Pop',\n",
              " '/forever-in-your-mind/': 'Pop',\n",
              " '/fotos/': 'Hip Hop',\n",
              " '/frailen-sertanejo/': 'Sertanejo',\n",
              " '/fran-rosas/': 'Pop',\n",
              " '/frankie-goes-to-hollywood/': 'Pop',\n",
              " '/gaabz/': 'Pop',\n",
              " '/gabbie-fadel/': 'Pop',\n",
              " '/gabi-borges/': 'Pop',\n",
              " '/gabi-caroline/': 'Pop',\n",
              " '/gabys/': 'Pop',\n",
              " '/gang-90-absurdetes/': 'Rock',\n",
              " '/geo/': 'Pop',\n",
              " '/geovane-santos/': 'Pop',\n",
              " '/geri-halliwell/': 'Pop',\n",
              " '/girlicious/': 'Hip Hop',\n",
              " '/goldfrapp/': 'Pop',\n",
              " '/greyson-chance/': 'Pop',\n",
              " '/grupo-blend/': 'Pop',\n",
              " '/grupo-musicamp/': 'Pop',\n",
              " '/grupo-palavra-certa/': 'Samba',\n",
              " '/gus7avo-diniz/': 'Pop',\n",
              " '/gwenno/': 'Pop',\n",
              " '/hanson/': 'Pop',\n",
              " '/henrrique-vieira/': 'Pop',\n",
              " '/high-school-musical-a-selecao/': 'Pop',\n",
              " '/hilreli/': 'Pop',\n",
              " '/im5/': 'Pop',\n",
              " '/ismael-lopes/': 'Pop',\n",
              " '/ivete-sangalo/': 'Pop',\n",
              " '/iza/': 'Pop',\n",
              " '/james-arthur/': 'Pop',\n",
              " '/james-biaggie/': 'Pop',\n",
              " '/jamie-lynn-spears/': 'Pop',\n",
              " '/janet-jackson/': 'Hip Hop',\n",
              " '/jasmine-villegas/': 'Pop',\n",
              " '/jax-jones/': 'Pop',\n",
              " '/jennette-mccurdy/': 'Pop',\n",
              " '/jenny-rocha/': 'Pop',\n",
              " '/jessica-simpson/': 'Pop',\n",
              " '/jewel/': 'Pop',\n",
              " '/jherry/': 'Pop',\n",
              " '/joan-osborne/': 'Pop',\n",
              " '/joao-marx/': 'Pop',\n",
              " '/jojo/': 'Pop',\n",
              " '/jonatas-ribeiro/': 'Pop',\n",
              " '/jordan-knight/': 'Funk Carioca',\n",
              " '/jordin-sparks/': 'Pop',\n",
              " '/josh-rouse/': 'Pop',\n",
              " '/ju-ribeiro/': 'Pop',\n",
              " '/juan-marcus-e-vinicius/': 'Sertanejo',\n",
              " '/juliana-bumbeer/': 'Pop',\n",
              " '/juliana-starry/': 'Pop',\n",
              " '/julieta-venegas/': 'Pop',\n",
              " '/jullie/': 'Pop',\n",
              " '/junior-soares/': 'Pop',\n",
              " '/junior-soul/': 'Pop',\n",
              " '/kaleb-karaa/': 'Sertanejo',\n",
              " '/kandies/': 'Pop',\n",
              " '/kat-graham/': 'Hip Hop',\n",
              " '/katy-perry/': 'Pop',\n",
              " '/kdrew/': 'Pop',\n",
              " '/kekel-pires/': 'Pop',\n",
              " '/kesha/': 'Pop',\n",
              " '/kid-abelha/': 'Pop',\n",
              " '/klb/': 'Pop',\n",
              " '/korth/': 'Pop',\n",
              " '/kudai/': 'Pop',\n",
              " '/lady-antebellum/': 'Pop',\n",
              " '/language-of-flowers/': 'Pop',\n",
              " '/lanne/': 'Pop',\n",
              " '/lari-padua/': 'Pop',\n",
              " '/laryssa-e-rayssa/': 'Pop',\n",
              " '/lea-ferguson/': 'Pop',\n",
              " '/leandro-lopes/': 'Pop',\n",
              " '/leighton-meester/': 'Pop',\n",
              " '/lene-alexandra/': 'Pop',\n",
              " '/lenylson-luan/': 'Pop',\n",
              " '/liah/': 'Pop',\n",
              " '/lil-seven/': 'Pop',\n",
              " '/lily-allen/': 'Pop',\n",
              " '/linho-nato/': 'Pop',\n",
              " '/lippe/': 'Pop',\n",
              " '/little-mix/': 'Pop',\n",
              " '/little-nation/': 'Pop',\n",
              " '/loko-loko/': 'Sertanejo',\n",
              " '/lolla-dias/': 'Pop',\n",
              " '/lsd-labrinth-sia-diplo/': 'Pop',\n",
              " '/lu-andrade/': 'Pop',\n",
              " '/luamarte/': 'Pop',\n",
              " '/lucas-alencar/': 'Pop',\n",
              " '/lucas-hawkin/': 'Pop',\n",
              " '/lucas-ing/': 'Sertanejo',\n",
              " '/lucca-e-juann/': 'Sertanejo',\n",
              " '/luckas-carbonary/': 'Pop',\n",
              " '/luisa-sonza/': 'Pop',\n",
              " '/luka/': 'Pop',\n",
              " '/lulu-henrique/': 'Pop',\n",
              " '/maddi-jane/': 'Pop',\n",
              " '/madness/': 'Pop',\n",
              " '/maite-perroni-beorlegui/': 'Pop',\n",
              " '/marcelo-e-vinicius/': 'Pop',\n",
              " '/marcos-valle/': 'Pop',\n",
              " '/mari-cardoso/': 'Pop',\n",
              " '/maria-gadu/': 'Pop',\n",
              " '/mariah-marini/': 'Pop',\n",
              " '/mariana-rios/': 'Pop',\n",
              " '/mariana-salomao/': 'Pop',\n",
              " '/marina-lima/': 'Pop',\n",
              " '/marioiso/': 'Sertanejo',\n",
              " '/matheus-bahia/': 'Pop',\n",
              " '/matheus-dpaula/': 'Pop',\n",
              " '/matheus-gabriel/': 'Pop',\n",
              " '/mattheus-maximo/': 'Pop',\n",
              " '/matthew-morrison/': 'Pop',\n",
              " '/mauricio-manieri/': 'Pop',\n",
              " '/mavix/': 'Pop',\n",
              " '/mc-didizin/': 'Funk Carioca',\n",
              " '/mc-illana/': 'Pop',\n",
              " '/mc-leozinho/': 'Pop',\n",
              " '/mc-mineiro/': 'Funk Carioca',\n",
              " '/mc-rihanna-da-baixada/': 'Funk Carioca',\n",
              " '/mdj/': 'Pop',\n",
              " '/meghan-trainor/': 'Pop',\n",
              " '/melanie-c/': 'Rock',\n",
              " '/melissa-nkonda/': 'Pop',\n",
              " '/metro/': 'Pop',\n",
              " '/michael-jackson/': 'Pop',\n",
              " '/michee-mb/': 'Pop',\n",
              " '/michel-grasiani/': 'Funk Carioca',\n",
              " '/michelle-wilson/': 'Pop',\n",
              " '/mietta/': 'Pop',\n",
              " '/mike/': 'Pop',\n",
              " '/mike-posner/': 'Pop',\n",
              " '/miley-cyrus/': 'Pop',\n",
              " '/miliko-san/': 'Samba',\n",
              " '/mone-garcia/': 'Pop',\n",
              " '/nalanda/': 'Hip Hop',\n",
              " '/naldo/': 'Pop',\n",
              " '/nanalu/': 'Pop',\n",
              " '/nancy-sinatra/': 'Pop',\n",
              " '/nanda-florence/': 'Pop',\n",
              " '/nanda-lynn/': 'Funk Carioca',\n",
              " '/natalia-damini/': 'Pop',\n",
              " '/natalia-kills/': 'Pop',\n",
              " '/neil-sedaka/': 'Pop',\n",
              " '/new-kids-on-the-block/': 'Pop',\n",
              " '/nexa/': 'Pop',\n",
              " '/niall-horan/': 'Pop',\n",
              " '/nick-carter/': 'Pop',\n",
              " '/nicolas-germano/': 'Pop',\n",
              " '/nicole-pillman/': 'Pop',\n",
              " '/nilton-areas/': 'Pop',\n",
              " '/nina-joory/': 'Pop',\n",
              " '/ninha-rayarchad/': 'Pop',\n",
              " '/nkotbsb/': 'Pop',\n",
              " '/no-secrets/': 'Pop',\n",
              " '/nobre-carpinteiro/': 'Pop',\n",
              " '/o-vento-solar/': 'Pop',\n",
              " '/o-town/': 'Pop',\n",
              " '/off-the-king/': 'Pop',\n",
              " '/offcase/': 'Pop',\n",
              " '/olly-murs/': 'Pop',\n",
              " '/outasight/': 'Pop',\n",
              " '/ov7/': 'Pop',\n",
              " '/paris-hilton/': 'Pop',\n",
              " '/patrick-nuo/': 'Pop',\n",
              " '/paula-abdul/': 'Pop',\n",
              " '/paula-fernandes/': 'Pop',\n",
              " '/paulina-rubio/': 'Pop',\n",
              " '/paulo-ricardo/': 'Pop',\n",
              " '/pedro-naves-e-rafael/': 'Sertanejo',\n",
              " '/pedro-phs/': 'Pop',\n",
              " '/pelek/': 'Pop',\n",
              " ...}"
            ]
          },
          "metadata": {},
          "execution_count": 13
        }
      ]
    },
    {
      "cell_type": "code",
      "metadata": {
        "colab": {
          "base_uri": "https://localhost:8080/",
          "height": 589
        },
        "id": "ewzs-tUsorOm",
        "outputId": "a593776f-12c5-4de5-b045-9bb73237017f"
      },
      "source": [
        "lyrics_df['Genre'] = lyrics_df['ALink'].map(genres)\n",
        "lyrics_df"
      ],
      "execution_count": 14,
      "outputs": [
        {
          "output_type": "execute_result",
          "data": {
            "text/html": [
              "<div>\n",
              "<style scoped>\n",
              "    .dataframe tbody tr th:only-of-type {\n",
              "        vertical-align: middle;\n",
              "    }\n",
              "\n",
              "    .dataframe tbody tr th {\n",
              "        vertical-align: top;\n",
              "    }\n",
              "\n",
              "    .dataframe thead th {\n",
              "        text-align: right;\n",
              "    }\n",
              "</style>\n",
              "<table border=\"1\" class=\"dataframe\">\n",
              "  <thead>\n",
              "    <tr style=\"text-align: right;\">\n",
              "      <th></th>\n",
              "      <th>ALink</th>\n",
              "      <th>SName</th>\n",
              "      <th>SLink</th>\n",
              "      <th>Lyric</th>\n",
              "      <th>Idiom</th>\n",
              "      <th>Genre</th>\n",
              "    </tr>\n",
              "  </thead>\n",
              "  <tbody>\n",
              "    <tr>\n",
              "      <th>0</th>\n",
              "      <td>/10000-maniacs/</td>\n",
              "      <td>More Than This</td>\n",
              "      <td>/10000-maniacs/more-than-this.html</td>\n",
              "      <td>I could feel at the time. There was no way of ...</td>\n",
              "      <td>ENGLISH</td>\n",
              "      <td>Pop</td>\n",
              "    </tr>\n",
              "    <tr>\n",
              "      <th>1</th>\n",
              "      <td>/10000-maniacs/</td>\n",
              "      <td>Because The Night</td>\n",
              "      <td>/10000-maniacs/because-the-night.html</td>\n",
              "      <td>Take me now, baby, here as I am. Hold me close...</td>\n",
              "      <td>ENGLISH</td>\n",
              "      <td>Pop</td>\n",
              "    </tr>\n",
              "    <tr>\n",
              "      <th>2</th>\n",
              "      <td>/10000-maniacs/</td>\n",
              "      <td>These Are Days</td>\n",
              "      <td>/10000-maniacs/these-are-days.html</td>\n",
              "      <td>These are. These are days you'll remember. Nev...</td>\n",
              "      <td>ENGLISH</td>\n",
              "      <td>Pop</td>\n",
              "    </tr>\n",
              "    <tr>\n",
              "      <th>3</th>\n",
              "      <td>/10000-maniacs/</td>\n",
              "      <td>A Campfire Song</td>\n",
              "      <td>/10000-maniacs/a-campfire-song.html</td>\n",
              "      <td>A lie to say, \"O my mountain has coal veins an...</td>\n",
              "      <td>ENGLISH</td>\n",
              "      <td>Pop</td>\n",
              "    </tr>\n",
              "    <tr>\n",
              "      <th>4</th>\n",
              "      <td>/10000-maniacs/</td>\n",
              "      <td>Everyday Is Like Sunday</td>\n",
              "      <td>/10000-maniacs/everyday-is-like-sunday.html</td>\n",
              "      <td>Trudging slowly over wet sand. Back to the ben...</td>\n",
              "      <td>ENGLISH</td>\n",
              "      <td>Pop</td>\n",
              "    </tr>\n",
              "    <tr>\n",
              "      <th>...</th>\n",
              "      <td>...</td>\n",
              "      <td>...</td>\n",
              "      <td>...</td>\n",
              "      <td>...</td>\n",
              "      <td>...</td>\n",
              "      <td>...</td>\n",
              "    </tr>\n",
              "    <tr>\n",
              "      <th>209516</th>\n",
              "      <td>/zeca-pagodinho/</td>\n",
              "      <td>Vôo de Paz</td>\n",
              "      <td>/zeca-pagodinho/voo-de-paz.html</td>\n",
              "      <td>Há qualquer coisa entre nós. Que nos priva de ...</td>\n",
              "      <td>PORTUGUESE</td>\n",
              "      <td>Samba</td>\n",
              "    </tr>\n",
              "    <tr>\n",
              "      <th>209518</th>\n",
              "      <td>/zeca-pagodinho/</td>\n",
              "      <td>Vou Procurar Esquecer</td>\n",
              "      <td>/zeca-pagodinho/vou-procurar-esquecer.html</td>\n",
              "      <td>Vou procurar um novo amor na minha vida. Porqu...</td>\n",
              "      <td>PORTUGUESE</td>\n",
              "      <td>Samba</td>\n",
              "    </tr>\n",
              "    <tr>\n",
              "      <th>209519</th>\n",
              "      <td>/zeca-pagodinho/</td>\n",
              "      <td>Vou Ver Juliana</td>\n",
              "      <td>/zeca-pagodinho/vou-ver-juliana.html</td>\n",
              "      <td>Quando a mare vazá. Vou vê juliana. Vou vê jul...</td>\n",
              "      <td>PORTUGUESE</td>\n",
              "      <td>Samba</td>\n",
              "    </tr>\n",
              "    <tr>\n",
              "      <th>209520</th>\n",
              "      <td>/zeca-pagodinho/</td>\n",
              "      <td>Yaô Cadê A Samba / Outro Recado / Hino</td>\n",
              "      <td>/zeca-pagodinho/yao-cade-a-samba-outro-recado-...</td>\n",
              "      <td>Ô Yaô. Yaô, cadê a samba?. Está mangando na cu...</td>\n",
              "      <td>PORTUGUESE</td>\n",
              "      <td>Samba</td>\n",
              "    </tr>\n",
              "    <tr>\n",
              "      <th>209521</th>\n",
              "      <td>/zeca-pagodinho/</td>\n",
              "      <td>Zeca, Cadê Você?</td>\n",
              "      <td>/zeca-pagodinho/zeca-cade-voce.html</td>\n",
              "      <td>Ô, Zeca, tu tá morando onde?. Ô, Zeca, tu tá m...</td>\n",
              "      <td>PORTUGUESE</td>\n",
              "      <td>Samba</td>\n",
              "    </tr>\n",
              "  </tbody>\n",
              "</table>\n",
              "<p>159416 rows × 6 columns</p>\n",
              "</div>"
            ],
            "text/plain": [
              "                   ALink  ...  Genre\n",
              "0        /10000-maniacs/  ...    Pop\n",
              "1        /10000-maniacs/  ...    Pop\n",
              "2        /10000-maniacs/  ...    Pop\n",
              "3        /10000-maniacs/  ...    Pop\n",
              "4        /10000-maniacs/  ...    Pop\n",
              "...                  ...  ...    ...\n",
              "209516  /zeca-pagodinho/  ...  Samba\n",
              "209518  /zeca-pagodinho/  ...  Samba\n",
              "209519  /zeca-pagodinho/  ...  Samba\n",
              "209520  /zeca-pagodinho/  ...  Samba\n",
              "209521  /zeca-pagodinho/  ...  Samba\n",
              "\n",
              "[159416 rows x 6 columns]"
            ]
          },
          "metadata": {},
          "execution_count": 14
        }
      ]
    },
    {
      "cell_type": "markdown",
      "metadata": {
        "id": "Pcwg2Zjntj_B"
      },
      "source": [
        "### Separacao das letras por idioma"
      ]
    },
    {
      "cell_type": "markdown",
      "metadata": {
        "id": "F9OPUbx4urMu"
      },
      "source": [
        "#### Ingles"
      ]
    },
    {
      "cell_type": "code",
      "metadata": {
        "colab": {
          "base_uri": "https://localhost:8080/",
          "height": 589
        },
        "id": "jJsl6QR2onWm",
        "outputId": "d70e4ecd-7281-4a4b-cc8b-60b3c2953b49"
      },
      "source": [
        "en_lyrics_df = lyrics_df.copy()\n",
        "\n",
        "en_lyrics_df.drop(en_lyrics_df[en_lyrics_df['Idiom'] != \"ENGLISH\"].index,\n",
        "                  inplace=True)\n",
        "\n",
        "# en_lyrics_df.to_csv(r\"./english_lyrics.csv\")\n",
        "\n",
        "en_lyrics_df"
      ],
      "execution_count": 15,
      "outputs": [
        {
          "output_type": "execute_result",
          "data": {
            "text/html": [
              "<div>\n",
              "<style scoped>\n",
              "    .dataframe tbody tr th:only-of-type {\n",
              "        vertical-align: middle;\n",
              "    }\n",
              "\n",
              "    .dataframe tbody tr th {\n",
              "        vertical-align: top;\n",
              "    }\n",
              "\n",
              "    .dataframe thead th {\n",
              "        text-align: right;\n",
              "    }\n",
              "</style>\n",
              "<table border=\"1\" class=\"dataframe\">\n",
              "  <thead>\n",
              "    <tr style=\"text-align: right;\">\n",
              "      <th></th>\n",
              "      <th>ALink</th>\n",
              "      <th>SName</th>\n",
              "      <th>SLink</th>\n",
              "      <th>Lyric</th>\n",
              "      <th>Idiom</th>\n",
              "      <th>Genre</th>\n",
              "    </tr>\n",
              "  </thead>\n",
              "  <tbody>\n",
              "    <tr>\n",
              "      <th>0</th>\n",
              "      <td>/10000-maniacs/</td>\n",
              "      <td>More Than This</td>\n",
              "      <td>/10000-maniacs/more-than-this.html</td>\n",
              "      <td>I could feel at the time. There was no way of ...</td>\n",
              "      <td>ENGLISH</td>\n",
              "      <td>Pop</td>\n",
              "    </tr>\n",
              "    <tr>\n",
              "      <th>1</th>\n",
              "      <td>/10000-maniacs/</td>\n",
              "      <td>Because The Night</td>\n",
              "      <td>/10000-maniacs/because-the-night.html</td>\n",
              "      <td>Take me now, baby, here as I am. Hold me close...</td>\n",
              "      <td>ENGLISH</td>\n",
              "      <td>Pop</td>\n",
              "    </tr>\n",
              "    <tr>\n",
              "      <th>2</th>\n",
              "      <td>/10000-maniacs/</td>\n",
              "      <td>These Are Days</td>\n",
              "      <td>/10000-maniacs/these-are-days.html</td>\n",
              "      <td>These are. These are days you'll remember. Nev...</td>\n",
              "      <td>ENGLISH</td>\n",
              "      <td>Pop</td>\n",
              "    </tr>\n",
              "    <tr>\n",
              "      <th>3</th>\n",
              "      <td>/10000-maniacs/</td>\n",
              "      <td>A Campfire Song</td>\n",
              "      <td>/10000-maniacs/a-campfire-song.html</td>\n",
              "      <td>A lie to say, \"O my mountain has coal veins an...</td>\n",
              "      <td>ENGLISH</td>\n",
              "      <td>Pop</td>\n",
              "    </tr>\n",
              "    <tr>\n",
              "      <th>4</th>\n",
              "      <td>/10000-maniacs/</td>\n",
              "      <td>Everyday Is Like Sunday</td>\n",
              "      <td>/10000-maniacs/everyday-is-like-sunday.html</td>\n",
              "      <td>Trudging slowly over wet sand. Back to the ben...</td>\n",
              "      <td>ENGLISH</td>\n",
              "      <td>Pop</td>\n",
              "    </tr>\n",
              "    <tr>\n",
              "      <th>...</th>\n",
              "      <td>...</td>\n",
              "      <td>...</td>\n",
              "      <td>...</td>\n",
              "      <td>...</td>\n",
              "      <td>...</td>\n",
              "      <td>...</td>\n",
              "    </tr>\n",
              "    <tr>\n",
              "      <th>207611</th>\n",
              "      <td>/sambo/</td>\n",
              "      <td>Smells Like Teen Spirit</td>\n",
              "      <td>/sambo/smells-like-teen-spirit.html</td>\n",
              "      <td>(Chorus). Hello, hello,hello,how low. Hello,he...</td>\n",
              "      <td>ENGLISH</td>\n",
              "      <td>Rock</td>\n",
              "    </tr>\n",
              "    <tr>\n",
              "      <th>207624</th>\n",
              "      <td>/sambo/</td>\n",
              "      <td>Valerie</td>\n",
              "      <td>/sambo/valerie.html</td>\n",
              "      <td>Well sometimes I go out by myself. And I look ...</td>\n",
              "      <td>ENGLISH</td>\n",
              "      <td>Rock</td>\n",
              "    </tr>\n",
              "    <tr>\n",
              "      <th>207628</th>\n",
              "      <td>/sambo/</td>\n",
              "      <td>Wake Me Up</td>\n",
              "      <td>/sambo/wake-me-up.html</td>\n",
              "      <td>Feeling my way through the darkness. Guided by...</td>\n",
              "      <td>ENGLISH</td>\n",
              "      <td>Rock</td>\n",
              "    </tr>\n",
              "    <tr>\n",
              "      <th>207792</th>\n",
              "      <td>/seu-jorge/</td>\n",
              "      <td>Don't</td>\n",
              "      <td>/seu-jorge/dont.html</td>\n",
              "      <td>Don't, don't, that's what you say. Each time t...</td>\n",
              "      <td>ENGLISH</td>\n",
              "      <td>Samba</td>\n",
              "    </tr>\n",
              "    <tr>\n",
              "      <th>209285</th>\n",
              "      <td>/zeca-pagodinho/</td>\n",
              "      <td>Deixa A Vida Me Levar (translation)</td>\n",
              "      <td>/zeca-pagodinho/deixa-a-vida-me-levar-translat...</td>\n",
              "      <td>I've been. For almost everything in life. In t...</td>\n",
              "      <td>ENGLISH</td>\n",
              "      <td>Samba</td>\n",
              "    </tr>\n",
              "  </tbody>\n",
              "</table>\n",
              "<p>91611 rows × 6 columns</p>\n",
              "</div>"
            ],
            "text/plain": [
              "                   ALink                                SName  ...    Idiom  Genre\n",
              "0        /10000-maniacs/                       More Than This  ...  ENGLISH    Pop\n",
              "1        /10000-maniacs/                    Because The Night  ...  ENGLISH    Pop\n",
              "2        /10000-maniacs/                       These Are Days  ...  ENGLISH    Pop\n",
              "3        /10000-maniacs/                      A Campfire Song  ...  ENGLISH    Pop\n",
              "4        /10000-maniacs/              Everyday Is Like Sunday  ...  ENGLISH    Pop\n",
              "...                  ...                                  ...  ...      ...    ...\n",
              "207611           /sambo/              Smells Like Teen Spirit  ...  ENGLISH   Rock\n",
              "207624           /sambo/                              Valerie  ...  ENGLISH   Rock\n",
              "207628           /sambo/                           Wake Me Up  ...  ENGLISH   Rock\n",
              "207792       /seu-jorge/                                Don't  ...  ENGLISH  Samba\n",
              "209285  /zeca-pagodinho/  Deixa A Vida Me Levar (translation)  ...  ENGLISH  Samba\n",
              "\n",
              "[91611 rows x 6 columns]"
            ]
          },
          "metadata": {},
          "execution_count": 15
        }
      ]
    },
    {
      "cell_type": "code",
      "metadata": {
        "colab": {
          "base_uri": "https://localhost:8080/",
          "height": 337
        },
        "id": "KWLBqNjfuW2e",
        "outputId": "2a0159a8-3fa3-45c6-83e9-a2c6c41d014f"
      },
      "source": [
        "en_lyrics_df['Genre'].value_counts().plot(kind='bar')"
      ],
      "execution_count": 16,
      "outputs": [
        {
          "output_type": "execute_result",
          "data": {
            "text/plain": [
              "<matplotlib.axes._subplots.AxesSubplot at 0x7f0cb12662d0>"
            ]
          },
          "metadata": {},
          "execution_count": 16
        },
        {
          "output_type": "display_data",
          "data": {
            "image/png": "[encoded data removed]",
            "text/plain": [
              "<Figure size 432x288 with 1 Axes>"
            ]
          },
          "metadata": {
            "needs_background": "light"
          }
        }
      ]
    },
    {
      "cell_type": "markdown",
      "metadata": {
        "id": "uoL3XlMi3pE-"
      },
      "source": [
        "##### Separação por gênero (rock)"
      ]
    },
    {
      "cell_type": "code",
      "metadata": {
        "colab": {
          "base_uri": "https://localhost:8080/"
        },
        "id": "Yeqm0HYU3FGg",
        "outputId": "bc7dea2c-750e-47fd-ab45-a93343ea8d15"
      },
      "source": [
        "en_rock_lyrics_df = en_lyrics_df.copy()\n",
        "\n",
        "en_rock_lyrics_df.drop(\n",
        "    en_rock_lyrics_df[en_rock_lyrics_df['Genre'] != \"Rock\"].index, inplace=True)\n",
        "\n",
        "en_rock_lyrics_df.to_csv(r\"./english_rock_lyrics.csv\", index=False)\n",
        "\n",
        "en_rock_lyrics_df.info()"
      ],
      "execution_count": 17,
      "outputs": [
        {
          "output_type": "stream",
          "name": "stdout",
          "text": [
            "<class 'pandas.core.frame.DataFrame'>\n",
            "Int64Index: 48617 entries, 133 to 207628\n",
            "Data columns (total 6 columns):\n",
            " #   Column  Non-Null Count  Dtype \n",
            "---  ------  --------------  ----- \n",
            " 0   ALink   48617 non-null  object\n",
            " 1   SName   48617 non-null  object\n",
            " 2   SLink   48617 non-null  object\n",
            " 3   Lyric   48617 non-null  object\n",
            " 4   Idiom   48617 non-null  object\n",
            " 5   Genre   48617 non-null  object\n",
            "dtypes: object(6)\n",
            "memory usage: 2.6+ MB\n"
          ]
        }
      ]
    },
    {
      "cell_type": "markdown",
      "metadata": {
        "id": "zWovl_4suySl"
      },
      "source": [
        "#### Portugues"
      ]
    },
    {
      "cell_type": "code",
      "metadata": {
        "colab": {
          "base_uri": "https://localhost:8080/",
          "height": 0
        },
        "id": "tKQXlo5eu31r",
        "outputId": "ca1fc0b7-b15e-4be7-ce53-047ac6a97ee1"
      },
      "source": [
        "pt_lyrics_df = lyrics_df.copy()\n",
        "\n",
        "pt_lyrics_df.drop(pt_lyrics_df[pt_lyrics_df['Idiom'] != \"PORTUGUESE\"].index,\n",
        "                  inplace=True)\n",
        "\n",
        "# pt_lyrics_df.to_csv(r\"./portuguese_lyrics.csv\")\n",
        "\n",
        "pt_lyrics_df"
      ],
      "execution_count": 18,
      "outputs": [
        {
          "output_type": "execute_result",
          "data": {
            "text/html": [
              "<div>\n",
              "<style scoped>\n",
              "    .dataframe tbody tr th:only-of-type {\n",
              "        vertical-align: middle;\n",
              "    }\n",
              "\n",
              "    .dataframe tbody tr th {\n",
              "        vertical-align: top;\n",
              "    }\n",
              "\n",
              "    .dataframe thead th {\n",
              "        text-align: right;\n",
              "    }\n",
              "</style>\n",
              "<table border=\"1\" class=\"dataframe\">\n",
              "  <thead>\n",
              "    <tr style=\"text-align: right;\">\n",
              "      <th></th>\n",
              "      <th>ALink</th>\n",
              "      <th>SName</th>\n",
              "      <th>SLink</th>\n",
              "      <th>Lyric</th>\n",
              "      <th>Idiom</th>\n",
              "      <th>Genre</th>\n",
              "    </tr>\n",
              "  </thead>\n",
              "  <tbody>\n",
              "    <tr>\n",
              "      <th>370</th>\n",
              "      <td>/311/</td>\n",
              "      <td>Summer Of Love - Traducao</td>\n",
              "      <td>/311/summer-of-love-traducao.html</td>\n",
              "      <td>Eu pensei na minha cena hoje. E eu finalmente ...</td>\n",
              "      <td>PORTUGUESE</td>\n",
              "      <td>Rock</td>\n",
              "    </tr>\n",
              "    <tr>\n",
              "      <th>594</th>\n",
              "      <td>/4seres/</td>\n",
              "      <td>Morada</td>\n",
              "      <td>/4seres/morada.html</td>\n",
              "      <td>Tuas palavras que me fazem caminhar. No caminh...</td>\n",
              "      <td>PORTUGUESE</td>\n",
              "      <td>Rock</td>\n",
              "    </tr>\n",
              "    <tr>\n",
              "      <th>595</th>\n",
              "      <td>/a-corte-animal/</td>\n",
              "      <td>À Deriva</td>\n",
              "      <td>/a-corte-animal/a-deriva.html</td>\n",
              "      <td>Quando jovens por assim dizer. Não se é nada. ...</td>\n",
              "      <td>PORTUGUESE</td>\n",
              "      <td>Rock</td>\n",
              "    </tr>\n",
              "    <tr>\n",
              "      <th>596</th>\n",
              "      <td>/a-corte-animal/</td>\n",
              "      <td>À Flor da Pele Moderna</td>\n",
              "      <td>/a-corte-animal/a-flor-da-pele-moderna.html</td>\n",
              "      <td>Ó pequena minha pequena cidade grande. Se apro...</td>\n",
              "      <td>PORTUGUESE</td>\n",
              "      <td>Rock</td>\n",
              "    </tr>\n",
              "    <tr>\n",
              "      <th>597</th>\n",
              "      <td>/a-corte-animal/</td>\n",
              "      <td>De Brasília, Com Amor</td>\n",
              "      <td>/a-corte-animal/de-brasilia-com-amor.html</td>\n",
              "      <td>Todo mês eu recebo. Cartas de um estranho. Mar...</td>\n",
              "      <td>PORTUGUESE</td>\n",
              "      <td>Rock</td>\n",
              "    </tr>\n",
              "    <tr>\n",
              "      <th>...</th>\n",
              "      <td>...</td>\n",
              "      <td>...</td>\n",
              "      <td>...</td>\n",
              "      <td>...</td>\n",
              "      <td>...</td>\n",
              "      <td>...</td>\n",
              "    </tr>\n",
              "    <tr>\n",
              "      <th>209516</th>\n",
              "      <td>/zeca-pagodinho/</td>\n",
              "      <td>Vôo de Paz</td>\n",
              "      <td>/zeca-pagodinho/voo-de-paz.html</td>\n",
              "      <td>Há qualquer coisa entre nós. Que nos priva de ...</td>\n",
              "      <td>PORTUGUESE</td>\n",
              "      <td>Samba</td>\n",
              "    </tr>\n",
              "    <tr>\n",
              "      <th>209518</th>\n",
              "      <td>/zeca-pagodinho/</td>\n",
              "      <td>Vou Procurar Esquecer</td>\n",
              "      <td>/zeca-pagodinho/vou-procurar-esquecer.html</td>\n",
              "      <td>Vou procurar um novo amor na minha vida. Porqu...</td>\n",
              "      <td>PORTUGUESE</td>\n",
              "      <td>Samba</td>\n",
              "    </tr>\n",
              "    <tr>\n",
              "      <th>209519</th>\n",
              "      <td>/zeca-pagodinho/</td>\n",
              "      <td>Vou Ver Juliana</td>\n",
              "      <td>/zeca-pagodinho/vou-ver-juliana.html</td>\n",
              "      <td>Quando a mare vazá. Vou vê juliana. Vou vê jul...</td>\n",
              "      <td>PORTUGUESE</td>\n",
              "      <td>Samba</td>\n",
              "    </tr>\n",
              "    <tr>\n",
              "      <th>209520</th>\n",
              "      <td>/zeca-pagodinho/</td>\n",
              "      <td>Yaô Cadê A Samba / Outro Recado / Hino</td>\n",
              "      <td>/zeca-pagodinho/yao-cade-a-samba-outro-recado-...</td>\n",
              "      <td>Ô Yaô. Yaô, cadê a samba?. Está mangando na cu...</td>\n",
              "      <td>PORTUGUESE</td>\n",
              "      <td>Samba</td>\n",
              "    </tr>\n",
              "    <tr>\n",
              "      <th>209521</th>\n",
              "      <td>/zeca-pagodinho/</td>\n",
              "      <td>Zeca, Cadê Você?</td>\n",
              "      <td>/zeca-pagodinho/zeca-cade-voce.html</td>\n",
              "      <td>Ô, Zeca, tu tá morando onde?. Ô, Zeca, tu tá m...</td>\n",
              "      <td>PORTUGUESE</td>\n",
              "      <td>Samba</td>\n",
              "    </tr>\n",
              "  </tbody>\n",
              "</table>\n",
              "<p>67805 rows × 6 columns</p>\n",
              "</div>"
            ],
            "text/plain": [
              "                   ALink  ...  Genre\n",
              "370                /311/  ...   Rock\n",
              "594             /4seres/  ...   Rock\n",
              "595     /a-corte-animal/  ...   Rock\n",
              "596     /a-corte-animal/  ...   Rock\n",
              "597     /a-corte-animal/  ...   Rock\n",
              "...                  ...  ...    ...\n",
              "209516  /zeca-pagodinho/  ...  Samba\n",
              "209518  /zeca-pagodinho/  ...  Samba\n",
              "209519  /zeca-pagodinho/  ...  Samba\n",
              "209520  /zeca-pagodinho/  ...  Samba\n",
              "209521  /zeca-pagodinho/  ...  Samba\n",
              "\n",
              "[67805 rows x 6 columns]"
            ]
          },
          "metadata": {},
          "execution_count": 18
        }
      ]
    },
    {
      "cell_type": "code",
      "metadata": {
        "colab": {
          "base_uri": "https://localhost:8080/",
          "height": 0
        },
        "id": "9EgVZnTGvcgM",
        "outputId": "a3183b10-52f2-47d7-fbdc-81db741c1734"
      },
      "source": [
        "pt_lyrics_df['Genre'].value_counts().plot(kind='bar')"
      ],
      "execution_count": 19,
      "outputs": [
        {
          "output_type": "execute_result",
          "data": {
            "text/plain": [
              "<matplotlib.axes._subplots.AxesSubplot at 0x7f0cb11df850>"
            ]
          },
          "metadata": {},
          "execution_count": 19
        },
        {
          "output_type": "display_data",
          "data": {
            "image/png": "[encoded data removed]",
            "text/plain": [
              "<Figure size 432x288 with 1 Axes>"
            ]
          },
          "metadata": {
            "needs_background": "light"
          }
        }
      ]
    },
    {
      "cell_type": "markdown",
      "metadata": {
        "id": "e7n7ftin3147"
      },
      "source": [
        "##### Separação por gênero (sertanejo)"
      ]
    },
    {
      "cell_type": "code",
      "metadata": {
        "colab": {
          "base_uri": "https://localhost:8080/"
        },
        "id": "uJ6UBl4-358X",
        "outputId": "408a0f5d-df59-4417-b811-49ac763226c8"
      },
      "source": [
        "pt_sert_lyrics_df = pt_lyrics_df.copy()\n",
        "\n",
        "pt_sert_lyrics_df.drop(\n",
        "    pt_sert_lyrics_df[pt_sert_lyrics_df['Genre'] != \"Sertanejo\"].index,\n",
        "    inplace=True)\n",
        "\n",
        "pt_sert_lyrics_df.to_csv(r\"./portuguese_sertanejo_lyrics.csv\")\n",
        "\n",
        "pt_sert_lyrics_df.info()"
      ],
      "execution_count": 20,
      "outputs": [
        {
          "output_type": "stream",
          "name": "stdout",
          "text": [
            "<class 'pandas.core.frame.DataFrame'>\n",
            "Int64Index: 27509 entries, 12775 to 201783\n",
            "Data columns (total 6 columns):\n",
            " #   Column  Non-Null Count  Dtype \n",
            "---  ------  --------------  ----- \n",
            " 0   ALink   27509 non-null  object\n",
            " 1   SName   27509 non-null  object\n",
            " 2   SLink   27509 non-null  object\n",
            " 3   Lyric   27509 non-null  object\n",
            " 4   Idiom   27509 non-null  object\n",
            " 5   Genre   27509 non-null  object\n",
            "dtypes: object(6)\n",
            "memory usage: 1.5+ MB\n"
          ]
        }
      ]
    },
    {
      "cell_type": "markdown",
      "metadata": {
        "id": "swVIzF2B5ZW8"
      },
      "source": [
        "## Tarefas de treinamento e geração de letras"
      ]
    },
    {
      "cell_type": "markdown",
      "metadata": {
        "id": "9wuS6JK_7O30"
      },
      "source": [
        "### Filtro músicas Elvis Presley"
      ]
    },
    {
      "cell_type": "code",
      "metadata": {
        "colab": {
          "base_uri": "https://localhost:8080/",
          "height": 289
        },
        "id": "BzpL_ICQ7Ubx",
        "outputId": "db51ef9b-6b3e-49f2-c011-0baf19fb05ab"
      },
      "source": [
        "import pandas as pd\n",
        "\n",
        "df = pd.read_csv(r\"./english_rock_lyrics.csv\")\n",
        "\n",
        "df.head()"
      ],
      "execution_count": 21,
      "outputs": [
        {
          "output_type": "execute_result",
          "data": {
            "text/html": [
              "<div>\n",
              "<style scoped>\n",
              "    .dataframe tbody tr th:only-of-type {\n",
              "        vertical-align: middle;\n",
              "    }\n",
              "\n",
              "    .dataframe tbody tr th {\n",
              "        vertical-align: top;\n",
              "    }\n",
              "\n",
              "    .dataframe thead th {\n",
              "        text-align: right;\n",
              "    }\n",
              "</style>\n",
              "<table border=\"1\" class=\"dataframe\">\n",
              "  <thead>\n",
              "    <tr style=\"text-align: right;\">\n",
              "      <th></th>\n",
              "      <th>ALink</th>\n",
              "      <th>SName</th>\n",
              "      <th>SLink</th>\n",
              "      <th>Lyric</th>\n",
              "      <th>Idiom</th>\n",
              "      <th>Genre</th>\n",
              "    </tr>\n",
              "  </thead>\n",
              "  <tbody>\n",
              "    <tr>\n",
              "      <th>0</th>\n",
              "      <td>/12-stones/</td>\n",
              "      <td>World So Cold</td>\n",
              "      <td>/12-stones/world-so-cold.html</td>\n",
              "      <td>It starts with pain, followed by hate. Fueled ...</td>\n",
              "      <td>ENGLISH</td>\n",
              "      <td>Rock</td>\n",
              "    </tr>\n",
              "    <tr>\n",
              "      <th>1</th>\n",
              "      <td>/12-stones/</td>\n",
              "      <td>Broken</td>\n",
              "      <td>/12-stones/broken.html</td>\n",
              "      <td>Freedom!. Alone again again alone. Patiently w...</td>\n",
              "      <td>ENGLISH</td>\n",
              "      <td>Rock</td>\n",
              "    </tr>\n",
              "    <tr>\n",
              "      <th>2</th>\n",
              "      <td>/12-stones/</td>\n",
              "      <td>3 Leaf Loser</td>\n",
              "      <td>/12-stones/3-leaf-loser.html</td>\n",
              "      <td>Biting the hand that feeds you, lying to the v...</td>\n",
              "      <td>ENGLISH</td>\n",
              "      <td>Rock</td>\n",
              "    </tr>\n",
              "    <tr>\n",
              "      <th>3</th>\n",
              "      <td>/12-stones/</td>\n",
              "      <td>Anthem For The Underdog</td>\n",
              "      <td>/12-stones/anthem-for-the-underdog.html</td>\n",
              "      <td>You say you know just who I am. But you can't ...</td>\n",
              "      <td>ENGLISH</td>\n",
              "      <td>Rock</td>\n",
              "    </tr>\n",
              "    <tr>\n",
              "      <th>4</th>\n",
              "      <td>/12-stones/</td>\n",
              "      <td>Adrenaline</td>\n",
              "      <td>/12-stones/adrenaline.html</td>\n",
              "      <td>My heart is beating faster can't control these...</td>\n",
              "      <td>ENGLISH</td>\n",
              "      <td>Rock</td>\n",
              "    </tr>\n",
              "  </tbody>\n",
              "</table>\n",
              "</div>"
            ],
            "text/plain": [
              "         ALink                    SName  ...    Idiom Genre\n",
              "0  /12-stones/            World So Cold  ...  ENGLISH  Rock\n",
              "1  /12-stones/                   Broken  ...  ENGLISH  Rock\n",
              "2  /12-stones/             3 Leaf Loser  ...  ENGLISH  Rock\n",
              "3  /12-stones/  Anthem For The Underdog  ...  ENGLISH  Rock\n",
              "4  /12-stones/               Adrenaline  ...  ENGLISH  Rock\n",
              "\n",
              "[5 rows x 6 columns]"
            ]
          },
          "metadata": {},
          "execution_count": 21
        }
      ]
    },
    {
      "cell_type": "code",
      "metadata": {
        "colab": {
          "base_uri": "https://localhost:8080/"
        },
        "id": "Qy2P8WC4MUh7",
        "outputId": "573d9bb7-a090-4c38-cab2-661e6124ad6a"
      },
      "source": [
        "df.ALink.value_counts()"
      ],
      "execution_count": 22,
      "outputs": [
        {
          "output_type": "execute_result",
          "data": {
            "text/plain": [
              "/elvis-presley/        747\n",
              "/bob-dylan/            534\n",
              "/neil-young/           488\n",
              "/van-morrison/         485\n",
              "/bruce-springsteen/    477\n",
              "                      ... \n",
              "/dr-cascadura/           1\n",
              "/camisa-de-venus/        1\n",
              "/eternal-alliance/       1\n",
              "/saint-pradier/          1\n",
              "/los-hermanos/           1\n",
              "Name: ALink, Length: 529, dtype: int64"
            ]
          },
          "metadata": {},
          "execution_count": 22
        }
      ]
    },
    {
      "cell_type": "code",
      "metadata": {
        "colab": {
          "base_uri": "https://localhost:8080/",
          "height": 589
        },
        "id": "JfpStgZyMcCo",
        "outputId": "4a4f9929-64d2-44b9-9adb-6355f69d6db5"
      },
      "source": [
        "df_elvis = df.copy()\n",
        "df_elvis = df_elvis.loc[df['ALink'] == '/elvis-presley/']\n",
        "df_elvis"
      ],
      "execution_count": 23,
      "outputs": [
        {
          "output_type": "execute_result",
          "data": {
            "text/html": [
              "<div>\n",
              "<style scoped>\n",
              "    .dataframe tbody tr th:only-of-type {\n",
              "        vertical-align: middle;\n",
              "    }\n",
              "\n",
              "    .dataframe tbody tr th {\n",
              "        vertical-align: top;\n",
              "    }\n",
              "\n",
              "    .dataframe thead th {\n",
              "        text-align: right;\n",
              "    }\n",
              "</style>\n",
              "<table border=\"1\" class=\"dataframe\">\n",
              "  <thead>\n",
              "    <tr style=\"text-align: right;\">\n",
              "      <th></th>\n",
              "      <th>ALink</th>\n",
              "      <th>SName</th>\n",
              "      <th>SLink</th>\n",
              "      <th>Lyric</th>\n",
              "      <th>Idiom</th>\n",
              "      <th>Genre</th>\n",
              "    </tr>\n",
              "  </thead>\n",
              "  <tbody>\n",
              "    <tr>\n",
              "      <th>11888</th>\n",
              "      <td>/elvis-presley/</td>\n",
              "      <td>My Way</td>\n",
              "      <td>/elvis-presley/my-way.html</td>\n",
              "      <td>And now the end is near. And so I face the fin...</td>\n",
              "      <td>ENGLISH</td>\n",
              "      <td>Rock</td>\n",
              "    </tr>\n",
              "    <tr>\n",
              "      <th>11889</th>\n",
              "      <td>/elvis-presley/</td>\n",
              "      <td>Can't Help Falling In Love</td>\n",
              "      <td>/elvis-presley/cant-help-falling-in-love.html</td>\n",
              "      <td>Wise men say, only fools rush in. But I can't ...</td>\n",
              "      <td>ENGLISH</td>\n",
              "      <td>Rock</td>\n",
              "    </tr>\n",
              "    <tr>\n",
              "      <th>11890</th>\n",
              "      <td>/elvis-presley/</td>\n",
              "      <td>Suspicious Minds</td>\n",
              "      <td>/elvis-presley/suspicious-minds.html</td>\n",
              "      <td>We're caught in a trap. I can't walk out. Beca...</td>\n",
              "      <td>ENGLISH</td>\n",
              "      <td>Rock</td>\n",
              "    </tr>\n",
              "    <tr>\n",
              "      <th>11891</th>\n",
              "      <td>/elvis-presley/</td>\n",
              "      <td>Always On My Mind</td>\n",
              "      <td>/elvis-presley/always-on-my-mind.html</td>\n",
              "      <td>Maybe I didn't treat you,. Quite as good as I ...</td>\n",
              "      <td>ENGLISH</td>\n",
              "      <td>Rock</td>\n",
              "    </tr>\n",
              "    <tr>\n",
              "      <th>11892</th>\n",
              "      <td>/elvis-presley/</td>\n",
              "      <td>Love Me Tender</td>\n",
              "      <td>/elvis-presley/love-me-tender.html</td>\n",
              "      <td>Love me tender, love me sweet,. Never let me g...</td>\n",
              "      <td>ENGLISH</td>\n",
              "      <td>Rock</td>\n",
              "    </tr>\n",
              "    <tr>\n",
              "      <th>...</th>\n",
              "      <td>...</td>\n",
              "      <td>...</td>\n",
              "      <td>...</td>\n",
              "      <td>...</td>\n",
              "      <td>...</td>\n",
              "      <td>...</td>\n",
              "    </tr>\n",
              "    <tr>\n",
              "      <th>12630</th>\n",
              "      <td>/elvis-presley/</td>\n",
              "      <td>Young and Beautiful</td>\n",
              "      <td>/elvis-presley/young-and-beautiful.html</td>\n",
              "      <td>You're so young and beautiful and I love you s...</td>\n",
              "      <td>ENGLISH</td>\n",
              "      <td>Rock</td>\n",
              "    </tr>\n",
              "    <tr>\n",
              "      <th>12631</th>\n",
              "      <td>/elvis-presley/</td>\n",
              "      <td>Young Dreams</td>\n",
              "      <td>/elvis-presley/young-dreams.html</td>\n",
              "      <td>(Young dreams of love, young dreams of love). ...</td>\n",
              "      <td>ENGLISH</td>\n",
              "      <td>Rock</td>\n",
              "    </tr>\n",
              "    <tr>\n",
              "      <th>12632</th>\n",
              "      <td>/elvis-presley/</td>\n",
              "      <td>Your Cheatin' Heart</td>\n",
              "      <td>/elvis-presley/your-cheatin-heart.html</td>\n",
              "      <td>Your cheatin' heart will make you weep. You'll...</td>\n",
              "      <td>ENGLISH</td>\n",
              "      <td>Rock</td>\n",
              "    </tr>\n",
              "    <tr>\n",
              "      <th>12633</th>\n",
              "      <td>/elvis-presley/</td>\n",
              "      <td>Your Love's Been A Long Time Coming</td>\n",
              "      <td>/elvis-presley/your-loves-been-a-long-time-com...</td>\n",
              "      <td>The first time I saw you I knew I was hooked o...</td>\n",
              "      <td>ENGLISH</td>\n",
              "      <td>Rock</td>\n",
              "    </tr>\n",
              "    <tr>\n",
              "      <th>12634</th>\n",
              "      <td>/elvis-presley/</td>\n",
              "      <td>Your Time Hasn't Come Yet Baby</td>\n",
              "      <td>/elvis-presley/your-time-hasnt-come-yet-baby.html</td>\n",
              "      <td>(Words &amp; music by Hirschhorn - Kascho). Your t...</td>\n",
              "      <td>ENGLISH</td>\n",
              "      <td>Rock</td>\n",
              "    </tr>\n",
              "  </tbody>\n",
              "</table>\n",
              "<p>747 rows × 6 columns</p>\n",
              "</div>"
            ],
            "text/plain": [
              "                 ALink                                SName  ...    Idiom Genre\n",
              "11888  /elvis-presley/                               My Way  ...  ENGLISH  Rock\n",
              "11889  /elvis-presley/           Can't Help Falling In Love  ...  ENGLISH  Rock\n",
              "11890  /elvis-presley/                     Suspicious Minds  ...  ENGLISH  Rock\n",
              "11891  /elvis-presley/                    Always On My Mind  ...  ENGLISH  Rock\n",
              "11892  /elvis-presley/                       Love Me Tender  ...  ENGLISH  Rock\n",
              "...                ...                                  ...  ...      ...   ...\n",
              "12630  /elvis-presley/                  Young and Beautiful  ...  ENGLISH  Rock\n",
              "12631  /elvis-presley/                         Young Dreams  ...  ENGLISH  Rock\n",
              "12632  /elvis-presley/                  Your Cheatin' Heart  ...  ENGLISH  Rock\n",
              "12633  /elvis-presley/  Your Love's Been A Long Time Coming  ...  ENGLISH  Rock\n",
              "12634  /elvis-presley/       Your Time Hasn't Come Yet Baby  ...  ENGLISH  Rock\n",
              "\n",
              "[747 rows x 6 columns]"
            ]
          },
          "metadata": {},
          "execution_count": 23
        }
      ]
    },
    {
      "cell_type": "code",
      "metadata": {
        "colab": {
          "base_uri": "https://localhost:8080/",
          "height": 204
        },
        "id": "JY5k11nDNZId",
        "outputId": "6c3f0f6f-97dd-42bd-8f53-a3619b77e91b"
      },
      "source": [
        "df_elvis.drop(columns=['ALink', 'SLink', 'Idiom', 'Genre'], inplace=True)\n",
        "\n",
        "df_elvis.head()"
      ],
      "execution_count": 24,
      "outputs": [
        {
          "output_type": "execute_result",
          "data": {
            "text/html": [
              "<div>\n",
              "<style scoped>\n",
              "    .dataframe tbody tr th:only-of-type {\n",
              "        vertical-align: middle;\n",
              "    }\n",
              "\n",
              "    .dataframe tbody tr th {\n",
              "        vertical-align: top;\n",
              "    }\n",
              "\n",
              "    .dataframe thead th {\n",
              "        text-align: right;\n",
              "    }\n",
              "</style>\n",
              "<table border=\"1\" class=\"dataframe\">\n",
              "  <thead>\n",
              "    <tr style=\"text-align: right;\">\n",
              "      <th></th>\n",
              "      <th>SName</th>\n",
              "      <th>Lyric</th>\n",
              "    </tr>\n",
              "  </thead>\n",
              "  <tbody>\n",
              "    <tr>\n",
              "      <th>11888</th>\n",
              "      <td>My Way</td>\n",
              "      <td>And now the end is near. And so I face the fin...</td>\n",
              "    </tr>\n",
              "    <tr>\n",
              "      <th>11889</th>\n",
              "      <td>Can't Help Falling In Love</td>\n",
              "      <td>Wise men say, only fools rush in. But I can't ...</td>\n",
              "    </tr>\n",
              "    <tr>\n",
              "      <th>11890</th>\n",
              "      <td>Suspicious Minds</td>\n",
              "      <td>We're caught in a trap. I can't walk out. Beca...</td>\n",
              "    </tr>\n",
              "    <tr>\n",
              "      <th>11891</th>\n",
              "      <td>Always On My Mind</td>\n",
              "      <td>Maybe I didn't treat you,. Quite as good as I ...</td>\n",
              "    </tr>\n",
              "    <tr>\n",
              "      <th>11892</th>\n",
              "      <td>Love Me Tender</td>\n",
              "      <td>Love me tender, love me sweet,. Never let me g...</td>\n",
              "    </tr>\n",
              "  </tbody>\n",
              "</table>\n",
              "</div>"
            ],
            "text/plain": [
              "                            SName                                              Lyric\n",
              "11888                      My Way  And now the end is near. And so I face the fin...\n",
              "11889  Can't Help Falling In Love  Wise men say, only fools rush in. But I can't ...\n",
              "11890            Suspicious Minds  We're caught in a trap. I can't walk out. Beca...\n",
              "11891           Always On My Mind  Maybe I didn't treat you,. Quite as good as I ...\n",
              "11892              Love Me Tender  Love me tender, love me sweet,. Never let me g..."
            ]
          },
          "metadata": {},
          "execution_count": 24
        }
      ]
    },
    {
      "cell_type": "code",
      "metadata": {
        "id": "4EbYX6OENvSW"
      },
      "source": [
        "musicas = df_elvis.Lyric.values\n",
        "vocab_elvis = ''\n",
        "for song in musicas:\n",
        "  if '(' in song[0:10]:\n",
        "    idx_parentese_d = song.find(')')\n",
        "    song = song[idx_parentese_d+3:]\n",
        "  vocab_elvis = ''.join(song)\n",
        "  #print(vocab_elvis)\n",
        "#vocab_elvis"
      ],
      "execution_count": 50,
      "outputs": []
    },
    {
      "cell_type": "code",
      "metadata": {
        "colab": {
          "base_uri": "https://localhost:8080/"
        },
        "id": "Uskux4yXQdHi",
        "outputId": "c5b23568-1b00-4677-b6b4-f21b780d0d8f"
      },
      "source": [
        "print(vocab_elvis[:250])"
      ],
      "execution_count": 51,
      "outputs": [
        {
          "output_type": "stream",
          "name": "stdout",
          "text": [
            "Your time hasn't come yet baby. You got a lot of dreams to go. Your time hasn't come yet baby. But when it does your heart will know. You're gonna be a beautiful woman. Because you're such a beautiful child. And when you start to bloom. Just like a r\n"
          ]
        }
      ]
    },
    {
      "cell_type": "code",
      "metadata": {
        "colab": {
          "base_uri": "https://localhost:8080/"
        },
        "id": "k2B19XPsQq7T",
        "outputId": "6ac4bf95-2446-4453-a471-7d602b7a7aa2"
      },
      "source": [
        "vocab = sorted(set(vocab_elvis))\n",
        "print(f'{len(vocab)} unique characters')"
      ],
      "execution_count": 27,
      "outputs": [
        {
          "output_type": "stream",
          "name": "stdout",
          "text": [
            "35 unique characters\n"
          ]
        }
      ]
    },
    {
      "cell_type": "markdown",
      "metadata": {
        "id": "gZdCUsCruuhV"
      },
      "source": [
        "#### Ref Tensorflow\n",
        "https://www.tensorflow.org/text/tutorials/text_generation"
      ]
    },
    {
      "cell_type": "code",
      "metadata": {
        "id": "I-5R0ae4Qy2t"
      },
      "source": [
        "import tensorflow as tf\n",
        "from tensorflow.keras.layers.experimental import preprocessing\n",
        "\n",
        "import numpy as np\n",
        "import os\n",
        "import time"
      ],
      "execution_count": 28,
      "outputs": []
    },
    {
      "cell_type": "code",
      "metadata": {
        "id": "KVDpU52wRIb5"
      },
      "source": [
        "chars_from_ids = tf.keras.layers.experimental.preprocessing.StringLookup(\n",
        "    vocabulary=ids_from_chars.get_vocabulary(), invert=True, mask_token=None)"
      ],
      "execution_count": 32,
      "outputs": []
    },
    {
      "cell_type": "code",
      "metadata": {
        "colab": {
          "base_uri": "https://localhost:8080/"
        },
        "id": "qv4flxf9Rkw-",
        "outputId": "82a92ea7-02e5-4dc0-f3ee-b550f30ec349"
      },
      "source": [
        "all_ids = ids_from_chars(tf.strings.unicode_split(vocab_elvis, 'UTF-8'))\n",
        "all_ids"
      ],
      "execution_count": 35,
      "outputs": [
        {
          "output_type": "execute_result",
          "data": {
            "text/plain": [
              "<tf.Tensor: shape=(1064,), dtype=int64, numpy=array([12, 26, 31, ..., 26, 33,  4])>"
            ]
          },
          "metadata": {},
          "execution_count": 35
        }
      ]
    },
    {
      "cell_type": "code",
      "metadata": {
        "id": "rbGWlAguR62J"
      },
      "source": [
        "ids_dataset = tf.data.Dataset.from_tensor_slices(all_ids)"
      ],
      "execution_count": 36,
      "outputs": []
    },
    {
      "cell_type": "code",
      "metadata": {
        "colab": {
          "base_uri": "https://localhost:8080/"
        },
        "id": "3xxiB7XnR6to",
        "outputId": "4657d203-3371-4403-a5f1-20090e777cc7"
      },
      "source": [
        "for ids in ids_dataset.take(10):\n",
        "    print(chars_from_ids(ids).numpy().decode('utf-8'))"
      ],
      "execution_count": 37,
      "outputs": [
        {
          "output_type": "stream",
          "name": "stdout",
          "text": [
            "Y\n",
            "o\n",
            "u\n",
            "r\n",
            " \n",
            "t\n",
            "i\n",
            "m\n",
            "e\n",
            " \n"
          ]
        }
      ]
    },
    {
      "cell_type": "code",
      "metadata": {
        "id": "OaTj3wB4R6aM"
      },
      "source": [
        "seq_length = 100\n",
        "examples_per_epoch = len(vocab_elvis)//(seq_length+1)"
      ],
      "execution_count": 38,
      "outputs": []
    },
    {
      "cell_type": "code",
      "metadata": {
        "colab": {
          "base_uri": "https://localhost:8080/"
        },
        "id": "OkguQhGGSIos",
        "outputId": "a594d109-4198-4422-8033-82a19c80b599"
      },
      "source": [
        "sequences = ids_dataset.batch(seq_length+1, drop_remainder=True)\n",
        "\n",
        "for seq in sequences.take(1):\n",
        "  print(chars_from_ids(seq))"
      ],
      "execution_count": 39,
      "outputs": [
        {
          "output_type": "stream",
          "name": "stdout",
          "text": [
            "tf.Tensor(\n",
            "[b'Y' b'o' b'u' b'r' b' ' b't' b'i' b'm' b'e' b' ' b'h' b'a' b's' b'n'\n",
            " b\"'\" b't' b' ' b'c' b'o' b'm' b'e' b' ' b'y' b'e' b't' b' ' b'b' b'a'\n",
            " b'b' b'y' b'.' b' ' b'Y' b'o' b'u' b' ' b'g' b'o' b't' b' ' b'a' b' '\n",
            " b'l' b'o' b't' b' ' b'o' b'f' b' ' b'd' b'r' b'e' b'a' b'm' b's' b' '\n",
            " b't' b'o' b' ' b'g' b'o' b'.' b' ' b'Y' b'o' b'u' b'r' b' ' b't' b'i'\n",
            " b'm' b'e' b' ' b'h' b'a' b's' b'n' b\"'\" b't' b' ' b'c' b'o' b'm' b'e'\n",
            " b' ' b'y' b'e' b't' b' ' b'b' b'a' b'b' b'y' b'.' b' ' b'B' b'u' b't'\n",
            " b' ' b'w' b'h'], shape=(101,), dtype=string)\n"
          ]
        }
      ]
    },
    {
      "cell_type": "code",
      "metadata": {
        "id": "hYUQfj8ySXei"
      },
      "source": [
        "def text_from_ids(ids):\n",
        "  return tf.strings.reduce_join(chars_from_ids(ids), axis=-1)"
      ],
      "execution_count": 40,
      "outputs": []
    },
    {
      "cell_type": "code",
      "metadata": {
        "colab": {
          "base_uri": "https://localhost:8080/"
        },
        "id": "JMqI91nJSNF6",
        "outputId": "1823b990-e22b-4257-f8e8-437eb224365b"
      },
      "source": [
        "for seq in sequences.take(5):\n",
        "  print(text_from_ids(seq).numpy())"
      ],
      "execution_count": 41,
      "outputs": [
        {
          "output_type": "stream",
          "name": "stdout",
          "text": [
            "b\"Your time hasn't come yet baby. You got a lot of dreams to go. Your time hasn't come yet baby. But wh\"\n",
            "b\"en it does your heart will know. You're gonna be a beautiful woman. Because you're such a beautiful c\"\n",
            "b'hild. And when you start to bloom. Just like a rose in June. I bet the schoolboys all go wild, but ri'\n",
            "b\"ght now. Your time hasn't come yet baby. You got a few dreams to go. Your time hasn't come yet baby. \"\n",
            "b\"When it does your heart will know. Your life's still a lollipop heaven. Your teddy bear's at the foot\"\n"
          ]
        }
      ]
    },
    {
      "cell_type": "markdown",
      "metadata": {
        "id": "SxpjMfgmSlbb"
      },
      "source": [
        "A cada iteração, o input e label serão representados pelo caractere atual e o próximo caractere."
      ]
    },
    {
      "cell_type": "code",
      "metadata": {
        "id": "1gQjJDVBSa77"
      },
      "source": [
        "def split_input_target(sequence):\n",
        "    input_text = sequence[:-1]\n",
        "    target_text = sequence[1:]\n",
        "    return input_text, target_text"
      ],
      "execution_count": 42,
      "outputs": []
    },
    {
      "cell_type": "code",
      "metadata": {
        "colab": {
          "base_uri": "https://localhost:8080/"
        },
        "id": "QkXSmQJuS8__",
        "outputId": "ce9f06ba-77f9-4513-b94f-9f1e78cccd52"
      },
      "source": [
        "split_input_target(list(\"Tensorflow\"))"
      ],
      "execution_count": 43,
      "outputs": [
        {
          "output_type": "execute_result",
          "data": {
            "text/plain": [
              "(['T', 'e', 'n', 's', 'o', 'r', 'f', 'l', 'o'],\n",
              " ['e', 'n', 's', 'o', 'r', 'f', 'l', 'o', 'w'])"
            ]
          },
          "metadata": {},
          "execution_count": 43
        }
      ]
    },
    {
      "cell_type": "code",
      "metadata": {
        "id": "J1G4rHqNTBEp"
      },
      "source": [
        "dataset = sequences.map(split_input_target)"
      ],
      "execution_count": 44,
      "outputs": []
    },
    {
      "cell_type": "code",
      "metadata": {
        "colab": {
          "base_uri": "https://localhost:8080/"
        },
        "id": "raULJtChTCt-",
        "outputId": "2447d0d8-1979-4a8c-e8d8-fbf34106e7b4"
      },
      "source": [
        "for input_example, target_example in dataset.take(1):\n",
        "    print(\"Input :\", text_from_ids(input_example).numpy())\n",
        "    print(\"Target:\", text_from_ids(target_example).numpy())"
      ],
      "execution_count": 45,
      "outputs": [
        {
          "output_type": "stream",
          "name": "stdout",
          "text": [
            "Input : b\"Your time hasn't come yet baby. You got a lot of dreams to go. Your time hasn't come yet baby. But w\"\n",
            "Target: b\"our time hasn't come yet baby. You got a lot of dreams to go. Your time hasn't come yet baby. But wh\"\n"
          ]
        }
      ]
    },
    {
      "cell_type": "code",
      "metadata": {
        "id": "ZSDafp97TLkV"
      },
      "source": [
        "# Batch size\n",
        "BATCH_SIZE = 64\n",
        "\n",
        "# Buffer size to shuffle the dataset\n",
        "# (TF data is designed to work with possibly infinite sequences,\n",
        "# so it doesn't attempt to shuffle the entire sequence in memory. Instead,\n",
        "# it maintains a buffer in which it shuffles elements).\n",
        "BUFFER_SIZE = 10000\n",
        "\n",
        "dataset = (\n",
        "    dataset\n",
        "    .shuffle(BUFFER_SIZE)\n",
        "    .batch(BATCH_SIZE, drop_remainder=True)\n",
        "    .prefetch(tf.data.experimental.AUTOTUNE))\n",
        "\n",
        "dataset"
      ],
      "execution_count": null,
      "outputs": []
    },
    {
      "cell_type": "code",
      "metadata": {
        "id": "Zmzp-A0tTN2r"
      },
      "source": [
        "# Length of the vocabulary in chars\n",
        "vocab_size = len(vocab)\n",
        "\n",
        "# The embedding dimension\n",
        "embedding_dim = 256\n",
        "\n",
        "# Number of RNN units\n",
        "rnn_units = 1024"
      ],
      "execution_count": null,
      "outputs": []
    },
    {
      "cell_type": "code",
      "metadata": {
        "id": "D6SY6qDKTWug"
      },
      "source": [
        "class MyModel(tf.keras.Model):\n",
        "  def __init__(self, vocab_size, embedding_dim, rnn_units):\n",
        "    super().__init__(self)\n",
        "    self.embedding = tf.keras.layers.Embedding(vocab_size, embedding_dim)\n",
        "    self.gru = tf.keras.layers.GRU(rnn_units,\n",
        "                                   return_sequences=True,\n",
        "                                   return_state=True)\n",
        "    self.dense = tf.keras.layers.Dense(vocab_size)\n",
        "\n",
        "  def call(self, inputs, states=None, return_state=False, training=False):\n",
        "    x = inputs\n",
        "    x = self.embedding(x, training=training)\n",
        "    if states is None:\n",
        "      states = self.gru.get_initial_state(x)\n",
        "    x, states = self.gru(x, initial_state=states, training=training)\n",
        "    x = self.dense(x, training=training)\n",
        "\n",
        "    if return_state:\n",
        "      return x, states\n",
        "    else:\n",
        "      return x"
      ],
      "execution_count": null,
      "outputs": []
    },
    {
      "cell_type": "code",
      "metadata": {
        "id": "i6RMVO3KThua"
      },
      "source": [
        "model = MyModel(\n",
        "    # Be sure the vocabulary size matches the `StringLookup` layers.\n",
        "    vocab_size=len(ids_from_chars.get_vocabulary()),\n",
        "    embedding_dim=embedding_dim,\n",
        "    rnn_units=rnn_units)"
      ],
      "execution_count": null,
      "outputs": []
    },
    {
      "cell_type": "markdown",
      "metadata": {
        "id": "AL1Jt3iZTsUi"
      },
      "source": [
        "Modelo setado! Agora vamos testar:"
      ]
    },
    {
      "cell_type": "code",
      "metadata": {
        "id": "D8PIBNQkTkaL"
      },
      "source": [
        "for input_example_batch, target_example_batch in dataset.take(1):\n",
        "    example_batch_predictions = model(input_example_batch)\n",
        "    print(example_batch_predictions.shape, (batch_size, sequence_length, vocab_size))"
      ],
      "execution_count": null,
      "outputs": []
    },
    {
      "cell_type": "code",
      "metadata": {
        "id": "6t0dBW_5T1U0"
      },
      "source": [
        "model.summary()"
      ],
      "execution_count": null,
      "outputs": []
    },
    {
      "cell_type": "code",
      "metadata": {
        "id": "OqFAZGmdUnFf"
      },
      "source": [
        "loss = tf.losses.SparseCategoricalCrossentropy(from_logits=True)"
      ],
      "execution_count": null,
      "outputs": []
    },
    {
      "cell_type": "code",
      "metadata": {
        "id": "uAROJaifVA_o"
      },
      "source": [
        "model.compile(optimizer='adam', loss=loss)"
      ],
      "execution_count": null,
      "outputs": []
    },
    {
      "cell_type": "code",
      "metadata": {
        "id": "VBGKjugSVl35"
      },
      "source": [
        "type(dataset)"
      ],
      "execution_count": null,
      "outputs": []
    },
    {
      "cell_type": "code",
      "metadata": {
        "id": "-7Vh0BJHVCNH"
      },
      "source": [
        "EPOCHS = 20\n",
        "history = model.fit(dataset, epochs=EPOCHS)#, callbacks=[checkpoint_callback])"
      ],
      "execution_count": null,
      "outputs": []
    },
    {
      "cell_type": "code",
      "metadata": {
        "id": "B-0b5t-2Uo-Y"
      },
      "source": [
        "example_batch_loss = loss(target_example_batch, example_batch_predictions)\n",
        "mean_loss = example_batch_loss.numpy().mean()\n",
        "print(\"Prediction shape: \", example_batch_predictions.shape, \" # (batch_size, sequence_length, vocab_size)\")\n",
        "print(\"Mean loss:        \", mean_loss)"
      ],
      "execution_count": null,
      "outputs": []
    },
    {
      "cell_type": "markdown",
      "metadata": {
        "id": "btRnVI7Fvasd"
      },
      "source": [
        "#### Ref TowardAI\n",
        "https://towardsai.net/p/deep-learning/create-your-first-text-generator-with-lstm-in-few-minutes"
      ]
    },
    {
      "cell_type": "code",
      "metadata": {
        "id": "HKZx4ZLHWsSJ"
      },
      "source": [
        "from tensorflow.keras.models import Sequential\n",
        "from tensorflow.keras.layers import LSTM,Dense,Embedding\n",
        "from tensorflow.keras.losses import sparse_categorical_crossentropy\n",
        "\n",
        "def sparse_cat_loss(y_true,y_pred):\n",
        "  return sparse_categorical_crossentropy(y_true, y_pred, from_logits=True)\n",
        "\n",
        "def create_model(vocab_size, embed_dim, rnn_neurons, batch_size):\n",
        "    model = Sequential()\n",
        "    model.add(Embedding(vocab_size, embed_dim,batch_input_shape=[batch_size, None]))\n",
        "    model.add(LSTM(rnn_neurons,return_sequences=True,stateful=True,recurrent_initializer='glorot_uniform'))\n",
        "    # Final Dense Layer to Predict\n",
        "    model.add(Dense(vocab_size))\n",
        "    model.compile(optimizer='adam', loss=sparse_cat_loss) \n",
        "    return model"
      ],
      "execution_count": 47,
      "outputs": []
    },
    {
      "cell_type": "code",
      "metadata": {
        "id": "KgwfQOAEWqdn"
      },
      "source": [
        "# Batch size\n",
        "batch_size = 32\n",
        "\n",
        "# Buffer size to shuffle the dataset so it doesn't attempt to shuffle\n",
        "# the entire sequence in memory. Instead, it maintains a buffer in which it shuffles elements\n",
        "buffer_size = 10000\n",
        "\n",
        "dataset = dataset.shuffle(buffer_size).batch(batch_size, drop_remainder=True)"
      ],
      "execution_count": 46,
      "outputs": []
    },
    {
      "cell_type": "code",
      "metadata": {
        "colab": {
          "base_uri": "https://localhost:8080/"
        },
        "id": "FhJVPgXZX67v",
        "outputId": "e6a3eece-6886-4175-98f5-a2420188ddb5"
      },
      "source": [
        "dataset"
      ],
      "execution_count": 48,
      "outputs": [
        {
          "output_type": "execute_result",
          "data": {
            "text/plain": [
              "<BatchDataset shapes: ((32, 100), (32, 100)), types: (tf.int64, tf.int64)>"
            ]
          },
          "metadata": {},
          "execution_count": 48
        }
      ]
    },
    {
      "cell_type": "code",
      "metadata": {
        "colab": {
          "base_uri": "https://localhost:8080/",
          "height": 0
        },
        "id": "lUtkAiJtWw71",
        "outputId": "aa4b2b9f-7229-41e4-f06b-a07922bbafeb"
      },
      "source": [
        "# Length of the vocabulary in chars\n",
        "vocab_size = len(vocab)\n",
        "# The embedding dimension\n",
        "embed_dim = 64\n",
        "# Number of RNN units\n",
        "rnn_neurons = 1024\n",
        "\n",
        "#Create the model\n",
        "model = create_model(\n",
        "  vocab_size = vocab_size,\n",
        "  embed_dim=embed_dim,\n",
        "  rnn_neurons=rnn_neurons,\n",
        "  batch_size=batch_size)\n",
        "\n",
        "#Train the model\n",
        "epochs = 30\n",
        "model.fit(dataset,epochs=epochs)"
      ],
      "execution_count": 49,
      "outputs": [
        {
          "output_type": "stream",
          "name": "stdout",
          "text": [
            "Epoch 1/30\n"
          ]
        },
        {
          "output_type": "error",
          "ename": "ValueError",
          "evalue": "ignored",
          "traceback": [
            "\u001b[0;31m---------------------------------------------------------------------------\u001b[0m",
            "\u001b[0;31mValueError\u001b[0m                                Traceback (most recent call last)",
            "\u001b[0;32m<ipython-input-49-5e3b354b7dc3>\u001b[0m in \u001b[0;36m<module>\u001b[0;34m()\u001b[0m\n\u001b[1;32m     15\u001b[0m \u001b[0;31m#Train the model\u001b[0m\u001b[0;34m\u001b[0m\u001b[0;34m\u001b[0m\u001b[0;34m\u001b[0m\u001b[0m\n\u001b[1;32m     16\u001b[0m \u001b[0mepochs\u001b[0m \u001b[0;34m=\u001b[0m \u001b[0;36m30\u001b[0m\u001b[0;34m\u001b[0m\u001b[0;34m\u001b[0m\u001b[0m\n\u001b[0;32m---> 17\u001b[0;31m \u001b[0mmodel\u001b[0m\u001b[0;34m.\u001b[0m\u001b[0mfit\u001b[0m\u001b[0;34m(\u001b[0m\u001b[0mdataset\u001b[0m\u001b[0;34m,\u001b[0m\u001b[0mepochs\u001b[0m\u001b[0;34m=\u001b[0m\u001b[0mepochs\u001b[0m\u001b[0;34m)\u001b[0m\u001b[0;34m\u001b[0m\u001b[0;34m\u001b[0m\u001b[0m\n\u001b[0m",
            "\u001b[0;32m/usr/local/lib/python3.7/dist-packages/keras/engine/training.py\u001b[0m in \u001b[0;36mfit\u001b[0;34m(self, x, y, batch_size, epochs, verbose, callbacks, validation_split, validation_data, shuffle, class_weight, sample_weight, initial_epoch, steps_per_epoch, validation_steps, validation_batch_size, validation_freq, max_queue_size, workers, use_multiprocessing)\u001b[0m\n\u001b[1;32m   1193\u001b[0m         \u001b[0mlogs\u001b[0m \u001b[0;34m=\u001b[0m \u001b[0mtf_utils\u001b[0m\u001b[0;34m.\u001b[0m\u001b[0msync_to_numpy_or_python_type\u001b[0m\u001b[0;34m(\u001b[0m\u001b[0mlogs\u001b[0m\u001b[0;34m)\u001b[0m\u001b[0;34m\u001b[0m\u001b[0;34m\u001b[0m\u001b[0m\n\u001b[1;32m   1194\u001b[0m         \u001b[0;32mif\u001b[0m \u001b[0mlogs\u001b[0m \u001b[0;32mis\u001b[0m \u001b[0;32mNone\u001b[0m\u001b[0;34m:\u001b[0m\u001b[0;34m\u001b[0m\u001b[0;34m\u001b[0m\u001b[0m\n\u001b[0;32m-> 1195\u001b[0;31m           \u001b[0;32mraise\u001b[0m \u001b[0mValueError\u001b[0m\u001b[0;34m(\u001b[0m\u001b[0;34m'Expect x to be a non-empty array or dataset.'\u001b[0m\u001b[0;34m)\u001b[0m\u001b[0;34m\u001b[0m\u001b[0;34m\u001b[0m\u001b[0m\n\u001b[0m\u001b[1;32m   1196\u001b[0m         \u001b[0mepoch_logs\u001b[0m \u001b[0;34m=\u001b[0m \u001b[0mcopy\u001b[0m\u001b[0;34m.\u001b[0m\u001b[0mcopy\u001b[0m\u001b[0;34m(\u001b[0m\u001b[0mlogs\u001b[0m\u001b[0;34m)\u001b[0m\u001b[0;34m\u001b[0m\u001b[0;34m\u001b[0m\u001b[0m\n\u001b[1;32m   1197\u001b[0m \u001b[0;34m\u001b[0m\u001b[0m\n",
            "\u001b[0;31mValueError\u001b[0m: Expect x to be a non-empty array or dataset."
          ]
        }
      ]
    }
  ]
}